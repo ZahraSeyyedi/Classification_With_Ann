{
  "nbformat": 4,
  "nbformat_minor": 0,
  "metadata": {
    "colab": {
      "provenance": [],
      "collapsed_sections": []
    },
    "kernelspec": {
      "name": "python3",
      "display_name": "Python 3"
    },
    "language_info": {
      "name": "python"
    },
    "widgets": {
      "application/vnd.jupyter.widget-state+json": {
        "866fd0b1813e4c59a6cbf9d876ea8cbf": {
          "model_module": "@jupyter-widgets/controls",
          "model_name": "HBoxModel",
          "model_module_version": "1.5.0",
          "state": {
            "_dom_classes": [],
            "_model_module": "@jupyter-widgets/controls",
            "_model_module_version": "1.5.0",
            "_model_name": "HBoxModel",
            "_view_count": null,
            "_view_module": "@jupyter-widgets/controls",
            "_view_module_version": "1.5.0",
            "_view_name": "HBoxView",
            "box_style": "",
            "children": [
              "IPY_MODEL_3c8596a3274a417dba44b8340352637c",
              "IPY_MODEL_17c7fc4483534dfeb1e5e811b550c596",
              "IPY_MODEL_40b3b7e1a03e4222874b34c31090f16b"
            ],
            "layout": "IPY_MODEL_6873135509d64bbc8a566e354023cedf"
          }
        },
        "3c8596a3274a417dba44b8340352637c": {
          "model_module": "@jupyter-widgets/controls",
          "model_name": "HTMLModel",
          "model_module_version": "1.5.0",
          "state": {
            "_dom_classes": [],
            "_model_module": "@jupyter-widgets/controls",
            "_model_module_version": "1.5.0",
            "_model_name": "HTMLModel",
            "_view_count": null,
            "_view_module": "@jupyter-widgets/controls",
            "_view_module_version": "1.5.0",
            "_view_name": "HTMLView",
            "description": "",
            "description_tooltip": null,
            "layout": "IPY_MODEL_49e33ad1b8964192a5979af828fd12fe",
            "placeholder": "​",
            "style": "IPY_MODEL_bd92a8d702a24bc99422618003b2913b",
            "value": "100%"
          }
        },
        "17c7fc4483534dfeb1e5e811b550c596": {
          "model_module": "@jupyter-widgets/controls",
          "model_name": "FloatProgressModel",
          "model_module_version": "1.5.0",
          "state": {
            "_dom_classes": [],
            "_model_module": "@jupyter-widgets/controls",
            "_model_module_version": "1.5.0",
            "_model_name": "FloatProgressModel",
            "_view_count": null,
            "_view_module": "@jupyter-widgets/controls",
            "_view_module_version": "1.5.0",
            "_view_name": "ProgressView",
            "bar_style": "success",
            "description": "",
            "description_tooltip": null,
            "layout": "IPY_MODEL_d6c63c3932874891bc0ad6ece65038e0",
            "max": 5,
            "min": 0,
            "orientation": "horizontal",
            "style": "IPY_MODEL_037ecb94456a4bc0aa13da5795b3845d",
            "value": 5
          }
        },
        "40b3b7e1a03e4222874b34c31090f16b": {
          "model_module": "@jupyter-widgets/controls",
          "model_name": "HTMLModel",
          "model_module_version": "1.5.0",
          "state": {
            "_dom_classes": [],
            "_model_module": "@jupyter-widgets/controls",
            "_model_module_version": "1.5.0",
            "_model_name": "HTMLModel",
            "_view_count": null,
            "_view_module": "@jupyter-widgets/controls",
            "_view_module_version": "1.5.0",
            "_view_name": "HTMLView",
            "description": "",
            "description_tooltip": null,
            "layout": "IPY_MODEL_145ce111ff91402db56699b07aec77fe",
            "placeholder": "​",
            "style": "IPY_MODEL_6fcaf97a50cb48e7a8dbce54e177302e",
            "value": " 5/5 [09:12&lt;00:00, 73.59s/it]"
          }
        },
        "6873135509d64bbc8a566e354023cedf": {
          "model_module": "@jupyter-widgets/base",
          "model_name": "LayoutModel",
          "model_module_version": "1.2.0",
          "state": {
            "_model_module": "@jupyter-widgets/base",
            "_model_module_version": "1.2.0",
            "_model_name": "LayoutModel",
            "_view_count": null,
            "_view_module": "@jupyter-widgets/base",
            "_view_module_version": "1.2.0",
            "_view_name": "LayoutView",
            "align_content": null,
            "align_items": null,
            "align_self": null,
            "border": null,
            "bottom": null,
            "display": null,
            "flex": null,
            "flex_flow": null,
            "grid_area": null,
            "grid_auto_columns": null,
            "grid_auto_flow": null,
            "grid_auto_rows": null,
            "grid_column": null,
            "grid_gap": null,
            "grid_row": null,
            "grid_template_areas": null,
            "grid_template_columns": null,
            "grid_template_rows": null,
            "height": null,
            "justify_content": null,
            "justify_items": null,
            "left": null,
            "margin": null,
            "max_height": null,
            "max_width": null,
            "min_height": null,
            "min_width": null,
            "object_fit": null,
            "object_position": null,
            "order": null,
            "overflow": null,
            "overflow_x": null,
            "overflow_y": null,
            "padding": null,
            "right": null,
            "top": null,
            "visibility": null,
            "width": null
          }
        },
        "49e33ad1b8964192a5979af828fd12fe": {
          "model_module": "@jupyter-widgets/base",
          "model_name": "LayoutModel",
          "model_module_version": "1.2.0",
          "state": {
            "_model_module": "@jupyter-widgets/base",
            "_model_module_version": "1.2.0",
            "_model_name": "LayoutModel",
            "_view_count": null,
            "_view_module": "@jupyter-widgets/base",
            "_view_module_version": "1.2.0",
            "_view_name": "LayoutView",
            "align_content": null,
            "align_items": null,
            "align_self": null,
            "border": null,
            "bottom": null,
            "display": null,
            "flex": null,
            "flex_flow": null,
            "grid_area": null,
            "grid_auto_columns": null,
            "grid_auto_flow": null,
            "grid_auto_rows": null,
            "grid_column": null,
            "grid_gap": null,
            "grid_row": null,
            "grid_template_areas": null,
            "grid_template_columns": null,
            "grid_template_rows": null,
            "height": null,
            "justify_content": null,
            "justify_items": null,
            "left": null,
            "margin": null,
            "max_height": null,
            "max_width": null,
            "min_height": null,
            "min_width": null,
            "object_fit": null,
            "object_position": null,
            "order": null,
            "overflow": null,
            "overflow_x": null,
            "overflow_y": null,
            "padding": null,
            "right": null,
            "top": null,
            "visibility": null,
            "width": null
          }
        },
        "bd92a8d702a24bc99422618003b2913b": {
          "model_module": "@jupyter-widgets/controls",
          "model_name": "DescriptionStyleModel",
          "model_module_version": "1.5.0",
          "state": {
            "_model_module": "@jupyter-widgets/controls",
            "_model_module_version": "1.5.0",
            "_model_name": "DescriptionStyleModel",
            "_view_count": null,
            "_view_module": "@jupyter-widgets/base",
            "_view_module_version": "1.2.0",
            "_view_name": "StyleView",
            "description_width": ""
          }
        },
        "d6c63c3932874891bc0ad6ece65038e0": {
          "model_module": "@jupyter-widgets/base",
          "model_name": "LayoutModel",
          "model_module_version": "1.2.0",
          "state": {
            "_model_module": "@jupyter-widgets/base",
            "_model_module_version": "1.2.0",
            "_model_name": "LayoutModel",
            "_view_count": null,
            "_view_module": "@jupyter-widgets/base",
            "_view_module_version": "1.2.0",
            "_view_name": "LayoutView",
            "align_content": null,
            "align_items": null,
            "align_self": null,
            "border": null,
            "bottom": null,
            "display": null,
            "flex": null,
            "flex_flow": null,
            "grid_area": null,
            "grid_auto_columns": null,
            "grid_auto_flow": null,
            "grid_auto_rows": null,
            "grid_column": null,
            "grid_gap": null,
            "grid_row": null,
            "grid_template_areas": null,
            "grid_template_columns": null,
            "grid_template_rows": null,
            "height": null,
            "justify_content": null,
            "justify_items": null,
            "left": null,
            "margin": null,
            "max_height": null,
            "max_width": null,
            "min_height": null,
            "min_width": null,
            "object_fit": null,
            "object_position": null,
            "order": null,
            "overflow": null,
            "overflow_x": null,
            "overflow_y": null,
            "padding": null,
            "right": null,
            "top": null,
            "visibility": null,
            "width": null
          }
        },
        "037ecb94456a4bc0aa13da5795b3845d": {
          "model_module": "@jupyter-widgets/controls",
          "model_name": "ProgressStyleModel",
          "model_module_version": "1.5.0",
          "state": {
            "_model_module": "@jupyter-widgets/controls",
            "_model_module_version": "1.5.0",
            "_model_name": "ProgressStyleModel",
            "_view_count": null,
            "_view_module": "@jupyter-widgets/base",
            "_view_module_version": "1.2.0",
            "_view_name": "StyleView",
            "bar_color": null,
            "description_width": ""
          }
        },
        "145ce111ff91402db56699b07aec77fe": {
          "model_module": "@jupyter-widgets/base",
          "model_name": "LayoutModel",
          "model_module_version": "1.2.0",
          "state": {
            "_model_module": "@jupyter-widgets/base",
            "_model_module_version": "1.2.0",
            "_model_name": "LayoutModel",
            "_view_count": null,
            "_view_module": "@jupyter-widgets/base",
            "_view_module_version": "1.2.0",
            "_view_name": "LayoutView",
            "align_content": null,
            "align_items": null,
            "align_self": null,
            "border": null,
            "bottom": null,
            "display": null,
            "flex": null,
            "flex_flow": null,
            "grid_area": null,
            "grid_auto_columns": null,
            "grid_auto_flow": null,
            "grid_auto_rows": null,
            "grid_column": null,
            "grid_gap": null,
            "grid_row": null,
            "grid_template_areas": null,
            "grid_template_columns": null,
            "grid_template_rows": null,
            "height": null,
            "justify_content": null,
            "justify_items": null,
            "left": null,
            "margin": null,
            "max_height": null,
            "max_width": null,
            "min_height": null,
            "min_width": null,
            "object_fit": null,
            "object_position": null,
            "order": null,
            "overflow": null,
            "overflow_x": null,
            "overflow_y": null,
            "padding": null,
            "right": null,
            "top": null,
            "visibility": null,
            "width": null
          }
        },
        "6fcaf97a50cb48e7a8dbce54e177302e": {
          "model_module": "@jupyter-widgets/controls",
          "model_name": "DescriptionStyleModel",
          "model_module_version": "1.5.0",
          "state": {
            "_model_module": "@jupyter-widgets/controls",
            "_model_module_version": "1.5.0",
            "_model_name": "DescriptionStyleModel",
            "_view_count": null,
            "_view_module": "@jupyter-widgets/base",
            "_view_module_version": "1.2.0",
            "_view_name": "StyleView",
            "description_width": ""
          }
        },
        "4942dcb5df9c48afb3690579e1ace1af": {
          "model_module": "@jupyter-widgets/controls",
          "model_name": "HBoxModel",
          "model_module_version": "1.5.0",
          "state": {
            "_dom_classes": [],
            "_model_module": "@jupyter-widgets/controls",
            "_model_module_version": "1.5.0",
            "_model_name": "HBoxModel",
            "_view_count": null,
            "_view_module": "@jupyter-widgets/controls",
            "_view_module_version": "1.5.0",
            "_view_name": "HBoxView",
            "box_style": "",
            "children": [
              "IPY_MODEL_ef6c4927c48a4c0fb724e5f2e378c72a",
              "IPY_MODEL_e9b913a9c81a4ee7afcbff159b2d5080",
              "IPY_MODEL_a679296286244949ba6aa2f7070fa8c1"
            ],
            "layout": "IPY_MODEL_174653fa0f6747dc9d430e2f782b72bb"
          }
        },
        "ef6c4927c48a4c0fb724e5f2e378c72a": {
          "model_module": "@jupyter-widgets/controls",
          "model_name": "HTMLModel",
          "model_module_version": "1.5.0",
          "state": {
            "_dom_classes": [],
            "_model_module": "@jupyter-widgets/controls",
            "_model_module_version": "1.5.0",
            "_model_name": "HTMLModel",
            "_view_count": null,
            "_view_module": "@jupyter-widgets/controls",
            "_view_module_version": "1.5.0",
            "_view_name": "HTMLView",
            "description": "",
            "description_tooltip": null,
            "layout": "IPY_MODEL_80b51194bcec43ccae73e87e6fc7b8a0",
            "placeholder": "​",
            "style": "IPY_MODEL_499d2e2277014ed797ab147d3b19a372",
            "value": "100%"
          }
        },
        "e9b913a9c81a4ee7afcbff159b2d5080": {
          "model_module": "@jupyter-widgets/controls",
          "model_name": "FloatProgressModel",
          "model_module_version": "1.5.0",
          "state": {
            "_dom_classes": [],
            "_model_module": "@jupyter-widgets/controls",
            "_model_module_version": "1.5.0",
            "_model_name": "FloatProgressModel",
            "_view_count": null,
            "_view_module": "@jupyter-widgets/controls",
            "_view_module_version": "1.5.0",
            "_view_name": "ProgressView",
            "bar_style": "success",
            "description": "",
            "description_tooltip": null,
            "layout": "IPY_MODEL_a52a031046a14cc99735ce26514d877e",
            "max": 3,
            "min": 0,
            "orientation": "horizontal",
            "style": "IPY_MODEL_34337da5984049a48cf468b12b7adb94",
            "value": 3
          }
        },
        "a679296286244949ba6aa2f7070fa8c1": {
          "model_module": "@jupyter-widgets/controls",
          "model_name": "HTMLModel",
          "model_module_version": "1.5.0",
          "state": {
            "_dom_classes": [],
            "_model_module": "@jupyter-widgets/controls",
            "_model_module_version": "1.5.0",
            "_model_name": "HTMLModel",
            "_view_count": null,
            "_view_module": "@jupyter-widgets/controls",
            "_view_module_version": "1.5.0",
            "_view_name": "HTMLView",
            "description": "",
            "description_tooltip": null,
            "layout": "IPY_MODEL_f27044d77e364128916b55025bf7b2ca",
            "placeholder": "​",
            "style": "IPY_MODEL_f0abd280caae47789ba97f8c5d868a11",
            "value": " 3/3 [05:47&lt;00:00, 134.89s/it]"
          }
        },
        "174653fa0f6747dc9d430e2f782b72bb": {
          "model_module": "@jupyter-widgets/base",
          "model_name": "LayoutModel",
          "model_module_version": "1.2.0",
          "state": {
            "_model_module": "@jupyter-widgets/base",
            "_model_module_version": "1.2.0",
            "_model_name": "LayoutModel",
            "_view_count": null,
            "_view_module": "@jupyter-widgets/base",
            "_view_module_version": "1.2.0",
            "_view_name": "LayoutView",
            "align_content": null,
            "align_items": null,
            "align_self": null,
            "border": null,
            "bottom": null,
            "display": null,
            "flex": null,
            "flex_flow": null,
            "grid_area": null,
            "grid_auto_columns": null,
            "grid_auto_flow": null,
            "grid_auto_rows": null,
            "grid_column": null,
            "grid_gap": null,
            "grid_row": null,
            "grid_template_areas": null,
            "grid_template_columns": null,
            "grid_template_rows": null,
            "height": null,
            "justify_content": null,
            "justify_items": null,
            "left": null,
            "margin": null,
            "max_height": null,
            "max_width": null,
            "min_height": null,
            "min_width": null,
            "object_fit": null,
            "object_position": null,
            "order": null,
            "overflow": null,
            "overflow_x": null,
            "overflow_y": null,
            "padding": null,
            "right": null,
            "top": null,
            "visibility": null,
            "width": null
          }
        },
        "80b51194bcec43ccae73e87e6fc7b8a0": {
          "model_module": "@jupyter-widgets/base",
          "model_name": "LayoutModel",
          "model_module_version": "1.2.0",
          "state": {
            "_model_module": "@jupyter-widgets/base",
            "_model_module_version": "1.2.0",
            "_model_name": "LayoutModel",
            "_view_count": null,
            "_view_module": "@jupyter-widgets/base",
            "_view_module_version": "1.2.0",
            "_view_name": "LayoutView",
            "align_content": null,
            "align_items": null,
            "align_self": null,
            "border": null,
            "bottom": null,
            "display": null,
            "flex": null,
            "flex_flow": null,
            "grid_area": null,
            "grid_auto_columns": null,
            "grid_auto_flow": null,
            "grid_auto_rows": null,
            "grid_column": null,
            "grid_gap": null,
            "grid_row": null,
            "grid_template_areas": null,
            "grid_template_columns": null,
            "grid_template_rows": null,
            "height": null,
            "justify_content": null,
            "justify_items": null,
            "left": null,
            "margin": null,
            "max_height": null,
            "max_width": null,
            "min_height": null,
            "min_width": null,
            "object_fit": null,
            "object_position": null,
            "order": null,
            "overflow": null,
            "overflow_x": null,
            "overflow_y": null,
            "padding": null,
            "right": null,
            "top": null,
            "visibility": null,
            "width": null
          }
        },
        "499d2e2277014ed797ab147d3b19a372": {
          "model_module": "@jupyter-widgets/controls",
          "model_name": "DescriptionStyleModel",
          "model_module_version": "1.5.0",
          "state": {
            "_model_module": "@jupyter-widgets/controls",
            "_model_module_version": "1.5.0",
            "_model_name": "DescriptionStyleModel",
            "_view_count": null,
            "_view_module": "@jupyter-widgets/base",
            "_view_module_version": "1.2.0",
            "_view_name": "StyleView",
            "description_width": ""
          }
        },
        "a52a031046a14cc99735ce26514d877e": {
          "model_module": "@jupyter-widgets/base",
          "model_name": "LayoutModel",
          "model_module_version": "1.2.0",
          "state": {
            "_model_module": "@jupyter-widgets/base",
            "_model_module_version": "1.2.0",
            "_model_name": "LayoutModel",
            "_view_count": null,
            "_view_module": "@jupyter-widgets/base",
            "_view_module_version": "1.2.0",
            "_view_name": "LayoutView",
            "align_content": null,
            "align_items": null,
            "align_self": null,
            "border": null,
            "bottom": null,
            "display": null,
            "flex": null,
            "flex_flow": null,
            "grid_area": null,
            "grid_auto_columns": null,
            "grid_auto_flow": null,
            "grid_auto_rows": null,
            "grid_column": null,
            "grid_gap": null,
            "grid_row": null,
            "grid_template_areas": null,
            "grid_template_columns": null,
            "grid_template_rows": null,
            "height": null,
            "justify_content": null,
            "justify_items": null,
            "left": null,
            "margin": null,
            "max_height": null,
            "max_width": null,
            "min_height": null,
            "min_width": null,
            "object_fit": null,
            "object_position": null,
            "order": null,
            "overflow": null,
            "overflow_x": null,
            "overflow_y": null,
            "padding": null,
            "right": null,
            "top": null,
            "visibility": null,
            "width": null
          }
        },
        "34337da5984049a48cf468b12b7adb94": {
          "model_module": "@jupyter-widgets/controls",
          "model_name": "ProgressStyleModel",
          "model_module_version": "1.5.0",
          "state": {
            "_model_module": "@jupyter-widgets/controls",
            "_model_module_version": "1.5.0",
            "_model_name": "ProgressStyleModel",
            "_view_count": null,
            "_view_module": "@jupyter-widgets/base",
            "_view_module_version": "1.2.0",
            "_view_name": "StyleView",
            "bar_color": null,
            "description_width": ""
          }
        },
        "f27044d77e364128916b55025bf7b2ca": {
          "model_module": "@jupyter-widgets/base",
          "model_name": "LayoutModel",
          "model_module_version": "1.2.0",
          "state": {
            "_model_module": "@jupyter-widgets/base",
            "_model_module_version": "1.2.0",
            "_model_name": "LayoutModel",
            "_view_count": null,
            "_view_module": "@jupyter-widgets/base",
            "_view_module_version": "1.2.0",
            "_view_name": "LayoutView",
            "align_content": null,
            "align_items": null,
            "align_self": null,
            "border": null,
            "bottom": null,
            "display": null,
            "flex": null,
            "flex_flow": null,
            "grid_area": null,
            "grid_auto_columns": null,
            "grid_auto_flow": null,
            "grid_auto_rows": null,
            "grid_column": null,
            "grid_gap": null,
            "grid_row": null,
            "grid_template_areas": null,
            "grid_template_columns": null,
            "grid_template_rows": null,
            "height": null,
            "justify_content": null,
            "justify_items": null,
            "left": null,
            "margin": null,
            "max_height": null,
            "max_width": null,
            "min_height": null,
            "min_width": null,
            "object_fit": null,
            "object_position": null,
            "order": null,
            "overflow": null,
            "overflow_x": null,
            "overflow_y": null,
            "padding": null,
            "right": null,
            "top": null,
            "visibility": null,
            "width": null
          }
        },
        "f0abd280caae47789ba97f8c5d868a11": {
          "model_module": "@jupyter-widgets/controls",
          "model_name": "DescriptionStyleModel",
          "model_module_version": "1.5.0",
          "state": {
            "_model_module": "@jupyter-widgets/controls",
            "_model_module_version": "1.5.0",
            "_model_name": "DescriptionStyleModel",
            "_view_count": null,
            "_view_module": "@jupyter-widgets/base",
            "_view_module_version": "1.2.0",
            "_view_name": "StyleView",
            "description_width": ""
          }
        },
        "5f894efde7594b0d87b9fb5782d58842": {
          "model_module": "@jupyter-widgets/controls",
          "model_name": "HBoxModel",
          "model_module_version": "1.5.0",
          "state": {
            "_dom_classes": [],
            "_model_module": "@jupyter-widgets/controls",
            "_model_module_version": "1.5.0",
            "_model_name": "HBoxModel",
            "_view_count": null,
            "_view_module": "@jupyter-widgets/controls",
            "_view_module_version": "1.5.0",
            "_view_name": "HBoxView",
            "box_style": "",
            "children": [
              "IPY_MODEL_270d9a3252b1483ba354fa0fc0821a51",
              "IPY_MODEL_6f037dcba3e344dba51106fe960b9995",
              "IPY_MODEL_f6b604022a5a4c0a9695e0010154d51c"
            ],
            "layout": "IPY_MODEL_a10b91b6ae2d4827885d7136f4b4b95a"
          }
        },
        "270d9a3252b1483ba354fa0fc0821a51": {
          "model_module": "@jupyter-widgets/controls",
          "model_name": "HTMLModel",
          "model_module_version": "1.5.0",
          "state": {
            "_dom_classes": [],
            "_model_module": "@jupyter-widgets/controls",
            "_model_module_version": "1.5.0",
            "_model_name": "HTMLModel",
            "_view_count": null,
            "_view_module": "@jupyter-widgets/controls",
            "_view_module_version": "1.5.0",
            "_view_name": "HTMLView",
            "description": "",
            "description_tooltip": null,
            "layout": "IPY_MODEL_aafda2326ea8402c945356855385ab7f",
            "placeholder": "​",
            "style": "IPY_MODEL_8b1bcd28bdac4bbbb13bce963d36160e",
            "value": "100%"
          }
        },
        "6f037dcba3e344dba51106fe960b9995": {
          "model_module": "@jupyter-widgets/controls",
          "model_name": "FloatProgressModel",
          "model_module_version": "1.5.0",
          "state": {
            "_dom_classes": [],
            "_model_module": "@jupyter-widgets/controls",
            "_model_module_version": "1.5.0",
            "_model_name": "FloatProgressModel",
            "_view_count": null,
            "_view_module": "@jupyter-widgets/controls",
            "_view_module_version": "1.5.0",
            "_view_name": "ProgressView",
            "bar_style": "success",
            "description": "",
            "description_tooltip": null,
            "layout": "IPY_MODEL_8aaaa6a37d26430aa2c1f63a5feb4319",
            "max": 2,
            "min": 0,
            "orientation": "horizontal",
            "style": "IPY_MODEL_32b450429125418b9e85b34e19d54f83",
            "value": 2
          }
        },
        "f6b604022a5a4c0a9695e0010154d51c": {
          "model_module": "@jupyter-widgets/controls",
          "model_name": "HTMLModel",
          "model_module_version": "1.5.0",
          "state": {
            "_dom_classes": [],
            "_model_module": "@jupyter-widgets/controls",
            "_model_module_version": "1.5.0",
            "_model_name": "HTMLModel",
            "_view_count": null,
            "_view_module": "@jupyter-widgets/controls",
            "_view_module_version": "1.5.0",
            "_view_name": "HTMLView",
            "description": "",
            "description_tooltip": null,
            "layout": "IPY_MODEL_1b70f3d96ce445aeb496b10789b89dbe",
            "placeholder": "​",
            "style": "IPY_MODEL_85b8354ac3874515a37668fc4147cce7",
            "value": " 2/2 [04:47&lt;00:00, 143.82s/it]"
          }
        },
        "a10b91b6ae2d4827885d7136f4b4b95a": {
          "model_module": "@jupyter-widgets/base",
          "model_name": "LayoutModel",
          "model_module_version": "1.2.0",
          "state": {
            "_model_module": "@jupyter-widgets/base",
            "_model_module_version": "1.2.0",
            "_model_name": "LayoutModel",
            "_view_count": null,
            "_view_module": "@jupyter-widgets/base",
            "_view_module_version": "1.2.0",
            "_view_name": "LayoutView",
            "align_content": null,
            "align_items": null,
            "align_self": null,
            "border": null,
            "bottom": null,
            "display": null,
            "flex": null,
            "flex_flow": null,
            "grid_area": null,
            "grid_auto_columns": null,
            "grid_auto_flow": null,
            "grid_auto_rows": null,
            "grid_column": null,
            "grid_gap": null,
            "grid_row": null,
            "grid_template_areas": null,
            "grid_template_columns": null,
            "grid_template_rows": null,
            "height": null,
            "justify_content": null,
            "justify_items": null,
            "left": null,
            "margin": null,
            "max_height": null,
            "max_width": null,
            "min_height": null,
            "min_width": null,
            "object_fit": null,
            "object_position": null,
            "order": null,
            "overflow": null,
            "overflow_x": null,
            "overflow_y": null,
            "padding": null,
            "right": null,
            "top": null,
            "visibility": null,
            "width": null
          }
        },
        "aafda2326ea8402c945356855385ab7f": {
          "model_module": "@jupyter-widgets/base",
          "model_name": "LayoutModel",
          "model_module_version": "1.2.0",
          "state": {
            "_model_module": "@jupyter-widgets/base",
            "_model_module_version": "1.2.0",
            "_model_name": "LayoutModel",
            "_view_count": null,
            "_view_module": "@jupyter-widgets/base",
            "_view_module_version": "1.2.0",
            "_view_name": "LayoutView",
            "align_content": null,
            "align_items": null,
            "align_self": null,
            "border": null,
            "bottom": null,
            "display": null,
            "flex": null,
            "flex_flow": null,
            "grid_area": null,
            "grid_auto_columns": null,
            "grid_auto_flow": null,
            "grid_auto_rows": null,
            "grid_column": null,
            "grid_gap": null,
            "grid_row": null,
            "grid_template_areas": null,
            "grid_template_columns": null,
            "grid_template_rows": null,
            "height": null,
            "justify_content": null,
            "justify_items": null,
            "left": null,
            "margin": null,
            "max_height": null,
            "max_width": null,
            "min_height": null,
            "min_width": null,
            "object_fit": null,
            "object_position": null,
            "order": null,
            "overflow": null,
            "overflow_x": null,
            "overflow_y": null,
            "padding": null,
            "right": null,
            "top": null,
            "visibility": null,
            "width": null
          }
        },
        "8b1bcd28bdac4bbbb13bce963d36160e": {
          "model_module": "@jupyter-widgets/controls",
          "model_name": "DescriptionStyleModel",
          "model_module_version": "1.5.0",
          "state": {
            "_model_module": "@jupyter-widgets/controls",
            "_model_module_version": "1.5.0",
            "_model_name": "DescriptionStyleModel",
            "_view_count": null,
            "_view_module": "@jupyter-widgets/base",
            "_view_module_version": "1.2.0",
            "_view_name": "StyleView",
            "description_width": ""
          }
        },
        "8aaaa6a37d26430aa2c1f63a5feb4319": {
          "model_module": "@jupyter-widgets/base",
          "model_name": "LayoutModel",
          "model_module_version": "1.2.0",
          "state": {
            "_model_module": "@jupyter-widgets/base",
            "_model_module_version": "1.2.0",
            "_model_name": "LayoutModel",
            "_view_count": null,
            "_view_module": "@jupyter-widgets/base",
            "_view_module_version": "1.2.0",
            "_view_name": "LayoutView",
            "align_content": null,
            "align_items": null,
            "align_self": null,
            "border": null,
            "bottom": null,
            "display": null,
            "flex": null,
            "flex_flow": null,
            "grid_area": null,
            "grid_auto_columns": null,
            "grid_auto_flow": null,
            "grid_auto_rows": null,
            "grid_column": null,
            "grid_gap": null,
            "grid_row": null,
            "grid_template_areas": null,
            "grid_template_columns": null,
            "grid_template_rows": null,
            "height": null,
            "justify_content": null,
            "justify_items": null,
            "left": null,
            "margin": null,
            "max_height": null,
            "max_width": null,
            "min_height": null,
            "min_width": null,
            "object_fit": null,
            "object_position": null,
            "order": null,
            "overflow": null,
            "overflow_x": null,
            "overflow_y": null,
            "padding": null,
            "right": null,
            "top": null,
            "visibility": null,
            "width": null
          }
        },
        "32b450429125418b9e85b34e19d54f83": {
          "model_module": "@jupyter-widgets/controls",
          "model_name": "ProgressStyleModel",
          "model_module_version": "1.5.0",
          "state": {
            "_model_module": "@jupyter-widgets/controls",
            "_model_module_version": "1.5.0",
            "_model_name": "ProgressStyleModel",
            "_view_count": null,
            "_view_module": "@jupyter-widgets/base",
            "_view_module_version": "1.2.0",
            "_view_name": "StyleView",
            "bar_color": null,
            "description_width": ""
          }
        },
        "1b70f3d96ce445aeb496b10789b89dbe": {
          "model_module": "@jupyter-widgets/base",
          "model_name": "LayoutModel",
          "model_module_version": "1.2.0",
          "state": {
            "_model_module": "@jupyter-widgets/base",
            "_model_module_version": "1.2.0",
            "_model_name": "LayoutModel",
            "_view_count": null,
            "_view_module": "@jupyter-widgets/base",
            "_view_module_version": "1.2.0",
            "_view_name": "LayoutView",
            "align_content": null,
            "align_items": null,
            "align_self": null,
            "border": null,
            "bottom": null,
            "display": null,
            "flex": null,
            "flex_flow": null,
            "grid_area": null,
            "grid_auto_columns": null,
            "grid_auto_flow": null,
            "grid_auto_rows": null,
            "grid_column": null,
            "grid_gap": null,
            "grid_row": null,
            "grid_template_areas": null,
            "grid_template_columns": null,
            "grid_template_rows": null,
            "height": null,
            "justify_content": null,
            "justify_items": null,
            "left": null,
            "margin": null,
            "max_height": null,
            "max_width": null,
            "min_height": null,
            "min_width": null,
            "object_fit": null,
            "object_position": null,
            "order": null,
            "overflow": null,
            "overflow_x": null,
            "overflow_y": null,
            "padding": null,
            "right": null,
            "top": null,
            "visibility": null,
            "width": null
          }
        },
        "85b8354ac3874515a37668fc4147cce7": {
          "model_module": "@jupyter-widgets/controls",
          "model_name": "DescriptionStyleModel",
          "model_module_version": "1.5.0",
          "state": {
            "_model_module": "@jupyter-widgets/controls",
            "_model_module_version": "1.5.0",
            "_model_name": "DescriptionStyleModel",
            "_view_count": null,
            "_view_module": "@jupyter-widgets/base",
            "_view_module_version": "1.2.0",
            "_view_name": "StyleView",
            "description_width": ""
          }
        }
      }
    }
  },
  "cells": [
    {
      "cell_type": "code",
      "execution_count": 1,
      "metadata": {
        "colab": {
          "base_uri": "https://localhost:8080/"
        },
        "id": "NFuUslaaCrkF",
        "outputId": "4a011971-2492-46f3-bed5-d1133c3bcd8d"
      },
      "outputs": [
        {
          "output_type": "stream",
          "name": "stdout",
          "text": [
            "Cloning into 'HodaDatasetReader'...\n",
            "remote: Enumerating objects: 24, done.\u001b[K\n",
            "remote: Total 24 (delta 0), reused 0 (delta 0), pack-reused 24\u001b[K\n",
            "Unpacking objects: 100% (24/24), done.\n"
          ]
        }
      ],
      "source": [
        "!git clone https://github.com/amir-saniyan/HodaDatasetReader.git"
      ]
    },
    {
      "cell_type": "code",
      "source": [
        "import matplotlib.pyplot as plt\n",
        "from tqdm.notebook import tqdm\n",
        "import seaborn as sns\n",
        "import numpy as np\n",
        "import pandas as pd\n",
        "from sklearn.svm import SVC\n",
        "from sklearn.manifold import TSNE\n",
        "from sklearn.decomposition import PCA\n",
        "from sklearn.preprocessing import MinMaxScaler\n",
        "from sklearn.metrics import classification_report, f1_score\n",
        "from HodaDatasetReader.HodaDatasetReader import read_hoda_dataset\n",
        "from time import perf_counter\n",
        "plt.style.use('fivethirtyeight')"
      ],
      "metadata": {
        "id": "S0EgKXLlImrt"
      },
      "execution_count": 2,
      "outputs": []
    },
    {
      "cell_type": "code",
      "source": [
        "X_train, y_train = read_hoda_dataset('/content/HodaDatasetReader/DigitDB/Train 60000.cdb')\n",
        "X_test, y_test = read_hoda_dataset('/content/HodaDatasetReader/DigitDB/Test 20000.cdb')"
      ],
      "metadata": {
        "id": "rbPf6EjhsnvY"
      },
      "execution_count": null,
      "outputs": []
    },
    {
      "cell_type": "code",
      "source": [
        "min_max = MinMaxScaler()\n",
        "X_train = min_max.fit_transform(X_train)\n",
        "X_test = min_max.transform(X_test)"
      ],
      "metadata": {
        "id": "a4jxN9kdQ7o7"
      },
      "execution_count": null,
      "outputs": []
    },
    {
      "cell_type": "code",
      "source": [
        "pca = PCA()\n",
        "X_train = pca.fit_transform(X_train)\n",
        "X_test = pca.transform(X_test)"
      ],
      "metadata": {
        "id": "BO2ohhkbtfbA"
      },
      "execution_count": null,
      "outputs": []
    },
    {
      "cell_type": "code",
      "source": [
        "pca_lst = np.cumsum(pca.explained_variance_ratio_)*100\n",
        "for i in range(0,100,5):\n",
        "  print(f'PCA{i+1} = {pca_lst[i]} ')"
      ],
      "metadata": {
        "colab": {
          "base_uri": "https://localhost:8080/"
        },
        "id": "OT4TwdeGxOFe",
        "outputId": "b8279247-9ae8-4a8a-f6e5-9ead0c02a956"
      },
      "execution_count": null,
      "outputs": [
        {
          "output_type": "stream",
          "name": "stdout",
          "text": [
            "PCA1 = 9.15994930267334 \n",
            "PCA6 = 36.29216384887695 \n",
            "PCA11 = 47.642066955566406 \n",
            "PCA16 = 55.25448989868164 \n",
            "PCA21 = 60.69498825073242 \n",
            "PCA26 = 64.64260864257812 \n",
            "PCA31 = 67.72737121582031 \n",
            "PCA36 = 70.16850280761719 \n",
            "PCA41 = 72.18496704101562 \n",
            "PCA46 = 73.87401580810547 \n",
            "PCA51 = 75.26863098144531 \n",
            "PCA56 = 76.5023422241211 \n",
            "PCA61 = 77.57620239257812 \n",
            "PCA66 = 78.50152587890625 \n",
            "PCA71 = 79.31513977050781 \n",
            "PCA76 = 80.04080963134766 \n",
            "PCA81 = 80.69830322265625 \n",
            "PCA86 = 81.30339050292969 \n",
            "PCA91 = 81.84333801269531 \n",
            "PCA96 = 82.34565734863281 \n"
          ]
        }
      ]
    },
    {
      "cell_type": "code",
      "source": [
        "pca = PCA(80)\n",
        "X_train = pca.fit_transform(X_train)\n",
        "X_test = pca.transform(X_test)"
      ],
      "metadata": {
        "id": "Tdvq11JMx8xv"
      },
      "execution_count": null,
      "outputs": []
    },
    {
      "cell_type": "code",
      "source": [
        "fig = plt.figure(figsize=(10,8),dpi=90)\n",
        "corr = np.corrcoef(X_train.T)\n",
        "sns.heatmap(corr);"
      ],
      "metadata": {
        "colab": {
          "base_uri": "https://localhost:8080/",
          "height": 608
        },
        "id": "0zATPVbCMUNW",
        "outputId": "ef41b8a6-cc8d-4dfe-d267-2a6c167e436d"
      },
      "execution_count": null,
      "outputs": [
        {
          "output_type": "display_data",
          "data": {
            "text/plain": [
              "<Figure size 900x720 with 2 Axes>"
            ],
            "image/png": "[encoded data removed]"
          },
          "metadata": {
            "needs_background": "light"
          }
        }
      ]
    },
    {
      "cell_type": "code",
      "source": [
        "svm =SVC()\n",
        "svm.fit(X_train,y_train)\n",
        "score = svm.score(X_test,y_test)\n",
        "score"
      ],
      "metadata": {
        "colab": {
          "base_uri": "https://localhost:8080/"
        },
        "id": "QJfsYla0yCoM",
        "outputId": "d36f421e-cb66-4884-97d7-8e4fe13cc2b9"
      },
      "execution_count": null,
      "outputs": [
        {
          "output_type": "execute_result",
          "data": {
            "text/plain": [
              "0.9808"
            ]
          },
          "metadata": {},
          "execution_count": 46
        }
      ]
    },
    {
      "cell_type": "code",
      "source": [
        "from sklearn.model_selection import cross_val_score\n",
        "score = {}\n",
        "for i in [0.8,1,5]:\n",
        "  svm = SVC(C=i)\n",
        "  score[i] = (cross_val_score(svm,X_train,y_train)).mean()\n",
        "plt.plot(list(score.keys()) , list(score.values()))"
      ],
      "metadata": {
        "colab": {
          "base_uri": "https://localhost:8080/",
          "height": 282
        },
        "id": "3vcDsOLOLMxk",
        "outputId": "4b2a429d-0a8d-4147-d694-002105c758b8"
      },
      "execution_count": null,
      "outputs": [
        {
          "output_type": "execute_result",
          "data": {
            "text/plain": [
              "[<matplotlib.lines.Line2D at 0x7f527ccf1210>]"
            ]
          },
          "metadata": {},
          "execution_count": 47
        },
        {
          "output_type": "display_data",
          "data": {
            "text/plain": [
              "<Figure size 432x288 with 1 Axes>"
            ],
            "image/png": "[encoded data removed]"
          },
          "metadata": {
            "needs_background": "light"
          }
        }
      ]
    },
    {
      "cell_type": "code",
      "source": [
        "svm =SVC(C=5)\n",
        "svm.fit(X_train,y_train)\n",
        "pred = svm.predict(X_test)\n",
        "print(classification_report(y_test,pred,digits=4))"
      ],
      "metadata": {
        "colab": {
          "base_uri": "https://localhost:8080/"
        },
        "id": "CO9p6RqDLzhz",
        "outputId": "652e8604-ab3c-4395-907c-d826a48b12e6"
      },
      "execution_count": null,
      "outputs": [
        {
          "output_type": "stream",
          "name": "stdout",
          "text": [
            "              precision    recall  f1-score   support\n",
            "\n",
            "         0.0     0.9950    0.9935    0.9942      2000\n",
            "         1.0     0.9828    0.9995    0.9911      2000\n",
            "         2.0     0.9675    0.9835    0.9755      2000\n",
            "         3.0     0.9721    0.9585    0.9653      2000\n",
            "         4.0     0.9765    0.9765    0.9765      2000\n",
            "         5.0     0.9915    0.9905    0.9910      2000\n",
            "         6.0     0.9915    0.9870    0.9892      2000\n",
            "         7.0     0.9965    0.9910    0.9937      2000\n",
            "         8.0     0.9955    0.9935    0.9945      2000\n",
            "         9.0     0.9884    0.9835    0.9860      2000\n",
            "\n",
            "    accuracy                         0.9857     20000\n",
            "   macro avg     0.9857    0.9857    0.9857     20000\n",
            "weighted avg     0.9857    0.9857    0.9857     20000\n",
            "\n"
          ]
        }
      ]
    },
    {
      "cell_type": "code",
      "source": [
        "from mpl_toolkits import mplot3d\n",
        "fig = plt.figure(figsize = (10, 7))\n",
        "ax = plt.axes(projection =\"3d\")\n",
        "ax.scatter3D(X_train[:, 0], X_train[:, 1],X_train[:, 2], s = 15, cmap = plt.cm.get_cmap('jet', 10) , c = y_train);"
      ],
      "metadata": {
        "colab": {
          "base_uri": "https://localhost:8080/",
          "height": 411
        },
        "id": "DfiprwARzQmK",
        "outputId": "dfd9e1ad-afe7-4492-88d9-75daeaa982fa"
      },
      "execution_count": null,
      "outputs": [
        {
          "output_type": "display_data",
          "data": {
            "text/plain": [
              "<Figure size 720x504 with 1 Axes>"
            ],
            "image/png": "[encoded data removed]"
          },
          "metadata": {
            "needs_background": "light"
          }
        }
      ]
    },
    {
      "cell_type": "markdown",
      "source": [
        "ANN"
      ],
      "metadata": {
        "id": "f4oNVPJdmy8B"
      }
    },
    {
      "cell_type": "code",
      "source": [
        "from tensorflow.keras.models import Model\n",
        "from tensorflow.keras.layers import Input, Dense\n",
        "import tensorflow as tf"
      ],
      "metadata": {
        "id": "Wvtnr883V4Q0"
      },
      "execution_count": 8,
      "outputs": []
    },
    {
      "cell_type": "code",
      "source": [
        "n_features = X_train.shape[1]\n",
        "n_classes = len(set(y_train))"
      ],
      "metadata": {
        "id": "nbhmp1-3pI3t"
      },
      "execution_count": null,
      "outputs": []
    },
    {
      "cell_type": "code",
      "source": [
        "input_layer = Input(shape=(n_features,), name='input_layer')\n",
        "\n",
        "Layer_1 = Dense(40, activation=\"relu\", name='Layer_1')(input_layer)\n",
        "Layer_2 = Dense(40, activation=\"relu\", name='Layer_2')(Layer_1)\n",
        "Layer_3 = Dense(40, activation=\"relu\", name='Layer_3')(Layer_2)\n",
        "Layer_4 = Dense(40, activation=\"relu\", name='Layer_4')(Layer_3)\n",
        "Layer_5 = Dense(40, activation=\"relu\", name='Layer_5')(Layer_4)\n",
        "\n",
        "output = Dense(n_classes, activation=\"softmax\", name='output')(Layer_5)\n",
        "\n",
        "fc_model = Model(inputs=input_layer, outputs=output)"
      ],
      "metadata": {
        "id": "RU4Tm1SEopHP"
      },
      "execution_count": null,
      "outputs": []
    },
    {
      "cell_type": "code",
      "source": [
        "metric = tf.keras.metrics.SparseCategoricalAccuracy()\n",
        "opt = tf.keras.optimizers.Adam()\n",
        "loss = tf.keras.losses.SparseCategoricalCrossentropy()\n",
        "fc_model.compile(loss=loss,\n",
        "                 optimizer=opt,\n",
        "                 metrics=metric)"
      ],
      "metadata": {
        "id": "zfab9at1poFG"
      },
      "execution_count": null,
      "outputs": []
    },
    {
      "cell_type": "code",
      "source": [
        "history = fc_model.fit(X_train, y_train, epochs=100, verbose=True,\n",
        "          batch_size=128, validation_data=(X_test, y_test))"
      ],
      "metadata": {
        "colab": {
          "base_uri": "https://localhost:8080/"
        },
        "id": "oKmDzpaOp4d0",
        "outputId": "122b54a5-ca4d-452f-c5a1-fff7c808521a"
      },
      "execution_count": null,
      "outputs": [
        {
          "output_type": "stream",
          "name": "stdout",
          "text": [
            "Epoch 1/100\n",
            "469/469 [==============================] - 3s 5ms/step - loss: 0.2898 - sparse_categorical_accuracy: 0.9124 - val_loss: 0.2496 - val_sparse_categorical_accuracy: 0.9239\n",
            "Epoch 2/100\n",
            "469/469 [==============================] - 2s 5ms/step - loss: 0.0921 - sparse_categorical_accuracy: 0.9725 - val_loss: 0.1865 - val_sparse_categorical_accuracy: 0.9460\n",
            "Epoch 3/100\n",
            "469/469 [==============================] - 2s 5ms/step - loss: 0.0658 - sparse_categorical_accuracy: 0.9813 - val_loss: 0.1364 - val_sparse_categorical_accuracy: 0.9611\n",
            "Epoch 4/100\n",
            "469/469 [==============================] - 2s 5ms/step - loss: 0.0502 - sparse_categorical_accuracy: 0.9850 - val_loss: 0.1385 - val_sparse_categorical_accuracy: 0.9607\n",
            "Epoch 5/100\n",
            "469/469 [==============================] - 2s 4ms/step - loss: 0.0421 - sparse_categorical_accuracy: 0.9867 - val_loss: 0.1256 - val_sparse_categorical_accuracy: 0.9646\n",
            "Epoch 6/100\n",
            "469/469 [==============================] - 2s 4ms/step - loss: 0.0326 - sparse_categorical_accuracy: 0.9901 - val_loss: 0.1315 - val_sparse_categorical_accuracy: 0.9653\n",
            "Epoch 7/100\n",
            "469/469 [==============================] - 2s 4ms/step - loss: 0.0294 - sparse_categorical_accuracy: 0.9905 - val_loss: 0.1335 - val_sparse_categorical_accuracy: 0.9661\n",
            "Epoch 8/100\n",
            "469/469 [==============================] - 2s 5ms/step - loss: 0.0238 - sparse_categorical_accuracy: 0.9928 - val_loss: 0.1359 - val_sparse_categorical_accuracy: 0.9664\n",
            "Epoch 9/100\n",
            "469/469 [==============================] - 2s 5ms/step - loss: 0.0195 - sparse_categorical_accuracy: 0.9938 - val_loss: 0.1312 - val_sparse_categorical_accuracy: 0.9700\n",
            "Epoch 10/100\n",
            "469/469 [==============================] - 2s 4ms/step - loss: 0.0202 - sparse_categorical_accuracy: 0.9931 - val_loss: 0.1349 - val_sparse_categorical_accuracy: 0.9687\n",
            "Epoch 11/100\n",
            "469/469 [==============================] - 2s 5ms/step - loss: 0.0139 - sparse_categorical_accuracy: 0.9952 - val_loss: 0.1530 - val_sparse_categorical_accuracy: 0.9650\n",
            "Epoch 12/100\n",
            "469/469 [==============================] - 2s 4ms/step - loss: 0.0122 - sparse_categorical_accuracy: 0.9959 - val_loss: 0.1513 - val_sparse_categorical_accuracy: 0.9663\n",
            "Epoch 13/100\n",
            "469/469 [==============================] - 2s 5ms/step - loss: 0.0141 - sparse_categorical_accuracy: 0.9951 - val_loss: 0.1505 - val_sparse_categorical_accuracy: 0.9681\n",
            "Epoch 14/100\n",
            "469/469 [==============================] - 2s 5ms/step - loss: 0.0125 - sparse_categorical_accuracy: 0.9956 - val_loss: 0.1444 - val_sparse_categorical_accuracy: 0.9714\n",
            "Epoch 15/100\n",
            "469/469 [==============================] - 2s 5ms/step - loss: 0.0113 - sparse_categorical_accuracy: 0.9965 - val_loss: 0.1671 - val_sparse_categorical_accuracy: 0.9649\n",
            "Epoch 16/100\n",
            "469/469 [==============================] - 2s 4ms/step - loss: 0.0129 - sparse_categorical_accuracy: 0.9958 - val_loss: 0.1515 - val_sparse_categorical_accuracy: 0.9701\n",
            "Epoch 17/100\n",
            "469/469 [==============================] - 2s 5ms/step - loss: 0.0104 - sparse_categorical_accuracy: 0.9966 - val_loss: 0.1622 - val_sparse_categorical_accuracy: 0.9679\n",
            "Epoch 18/100\n",
            "469/469 [==============================] - 2s 5ms/step - loss: 0.0085 - sparse_categorical_accuracy: 0.9972 - val_loss: 0.1820 - val_sparse_categorical_accuracy: 0.9683\n",
            "Epoch 19/100\n",
            "469/469 [==============================] - 2s 5ms/step - loss: 0.0091 - sparse_categorical_accuracy: 0.9969 - val_loss: 0.1535 - val_sparse_categorical_accuracy: 0.9721\n",
            "Epoch 20/100\n",
            "469/469 [==============================] - 2s 4ms/step - loss: 0.0075 - sparse_categorical_accuracy: 0.9976 - val_loss: 0.1627 - val_sparse_categorical_accuracy: 0.9725\n",
            "Epoch 21/100\n",
            "469/469 [==============================] - 2s 5ms/step - loss: 0.0075 - sparse_categorical_accuracy: 0.9977 - val_loss: 0.1974 - val_sparse_categorical_accuracy: 0.9638\n",
            "Epoch 22/100\n",
            "469/469 [==============================] - 2s 5ms/step - loss: 0.0080 - sparse_categorical_accuracy: 0.9974 - val_loss: 0.1908 - val_sparse_categorical_accuracy: 0.9694\n",
            "Epoch 23/100\n",
            "469/469 [==============================] - 2s 5ms/step - loss: 0.0098 - sparse_categorical_accuracy: 0.9967 - val_loss: 0.1862 - val_sparse_categorical_accuracy: 0.9667\n",
            "Epoch 24/100\n",
            "469/469 [==============================] - 2s 5ms/step - loss: 0.0062 - sparse_categorical_accuracy: 0.9981 - val_loss: 0.1790 - val_sparse_categorical_accuracy: 0.9705\n",
            "Epoch 25/100\n",
            "469/469 [==============================] - 2s 5ms/step - loss: 0.0048 - sparse_categorical_accuracy: 0.9985 - val_loss: 0.1763 - val_sparse_categorical_accuracy: 0.9707\n",
            "Epoch 26/100\n",
            "469/469 [==============================] - 2s 4ms/step - loss: 0.0079 - sparse_categorical_accuracy: 0.9976 - val_loss: 0.1746 - val_sparse_categorical_accuracy: 0.9722\n",
            "Epoch 27/100\n",
            "469/469 [==============================] - 2s 5ms/step - loss: 0.0045 - sparse_categorical_accuracy: 0.9984 - val_loss: 0.1997 - val_sparse_categorical_accuracy: 0.9702\n",
            "Epoch 28/100\n",
            "469/469 [==============================] - 2s 4ms/step - loss: 0.0099 - sparse_categorical_accuracy: 0.9969 - val_loss: 0.1679 - val_sparse_categorical_accuracy: 0.9702\n",
            "Epoch 29/100\n",
            "469/469 [==============================] - 2s 4ms/step - loss: 0.0052 - sparse_categorical_accuracy: 0.9982 - val_loss: 0.1838 - val_sparse_categorical_accuracy: 0.9694\n",
            "Epoch 30/100\n",
            "469/469 [==============================] - 2s 4ms/step - loss: 0.0071 - sparse_categorical_accuracy: 0.9978 - val_loss: 0.2040 - val_sparse_categorical_accuracy: 0.9672\n",
            "Epoch 31/100\n",
            "469/469 [==============================] - 2s 5ms/step - loss: 0.0039 - sparse_categorical_accuracy: 0.9986 - val_loss: 0.1877 - val_sparse_categorical_accuracy: 0.9723\n",
            "Epoch 32/100\n",
            "469/469 [==============================] - 2s 5ms/step - loss: 0.0095 - sparse_categorical_accuracy: 0.9973 - val_loss: 0.1879 - val_sparse_categorical_accuracy: 0.9693\n",
            "Epoch 33/100\n",
            "469/469 [==============================] - 2s 5ms/step - loss: 0.0032 - sparse_categorical_accuracy: 0.9990 - val_loss: 0.2024 - val_sparse_categorical_accuracy: 0.9711\n",
            "Epoch 34/100\n",
            "469/469 [==============================] - 2s 4ms/step - loss: 0.0055 - sparse_categorical_accuracy: 0.9984 - val_loss: 0.1712 - val_sparse_categorical_accuracy: 0.9730\n",
            "Epoch 35/100\n",
            "469/469 [==============================] - 2s 4ms/step - loss: 0.0063 - sparse_categorical_accuracy: 0.9981 - val_loss: 0.1741 - val_sparse_categorical_accuracy: 0.9736\n",
            "Epoch 36/100\n",
            "469/469 [==============================] - 2s 4ms/step - loss: 0.0029 - sparse_categorical_accuracy: 0.9992 - val_loss: 0.2169 - val_sparse_categorical_accuracy: 0.9675\n",
            "Epoch 37/100\n",
            "469/469 [==============================] - 2s 4ms/step - loss: 0.0046 - sparse_categorical_accuracy: 0.9985 - val_loss: 0.1787 - val_sparse_categorical_accuracy: 0.9715\n",
            "Epoch 38/100\n",
            "469/469 [==============================] - 2s 5ms/step - loss: 0.0085 - sparse_categorical_accuracy: 0.9978 - val_loss: 0.1674 - val_sparse_categorical_accuracy: 0.9736\n",
            "Epoch 39/100\n",
            "469/469 [==============================] - 2s 4ms/step - loss: 0.0016 - sparse_categorical_accuracy: 0.9995 - val_loss: 0.1839 - val_sparse_categorical_accuracy: 0.9736\n",
            "Epoch 40/100\n",
            "469/469 [==============================] - 2s 4ms/step - loss: 0.0040 - sparse_categorical_accuracy: 0.9989 - val_loss: 0.1678 - val_sparse_categorical_accuracy: 0.9740\n",
            "Epoch 41/100\n",
            "469/469 [==============================] - 2s 5ms/step - loss: 0.0071 - sparse_categorical_accuracy: 0.9980 - val_loss: 0.1752 - val_sparse_categorical_accuracy: 0.9728\n",
            "Epoch 42/100\n",
            "469/469 [==============================] - 2s 5ms/step - loss: 0.0017 - sparse_categorical_accuracy: 0.9995 - val_loss: 0.1899 - val_sparse_categorical_accuracy: 0.9730\n",
            "Epoch 43/100\n",
            "469/469 [==============================] - 2s 5ms/step - loss: 0.0015 - sparse_categorical_accuracy: 0.9995 - val_loss: 0.2081 - val_sparse_categorical_accuracy: 0.9723\n",
            "Epoch 44/100\n",
            "469/469 [==============================] - 2s 5ms/step - loss: 0.0082 - sparse_categorical_accuracy: 0.9977 - val_loss: 0.1726 - val_sparse_categorical_accuracy: 0.9722\n",
            "Epoch 45/100\n",
            "469/469 [==============================] - 2s 4ms/step - loss: 0.0056 - sparse_categorical_accuracy: 0.9984 - val_loss: 0.1846 - val_sparse_categorical_accuracy: 0.9717\n",
            "Epoch 46/100\n",
            "469/469 [==============================] - 2s 5ms/step - loss: 0.0025 - sparse_categorical_accuracy: 0.9993 - val_loss: 0.1999 - val_sparse_categorical_accuracy: 0.9706\n",
            "Epoch 47/100\n",
            "469/469 [==============================] - 2s 5ms/step - loss: 0.0043 - sparse_categorical_accuracy: 0.9989 - val_loss: 0.1934 - val_sparse_categorical_accuracy: 0.9718\n",
            "Epoch 48/100\n",
            "469/469 [==============================] - 2s 4ms/step - loss: 0.0051 - sparse_categorical_accuracy: 0.9985 - val_loss: 0.1869 - val_sparse_categorical_accuracy: 0.9726\n",
            "Epoch 49/100\n",
            "469/469 [==============================] - 2s 5ms/step - loss: 0.0034 - sparse_categorical_accuracy: 0.9988 - val_loss: 0.1736 - val_sparse_categorical_accuracy: 0.9743\n",
            "Epoch 50/100\n",
            "469/469 [==============================] - 2s 4ms/step - loss: 0.0042 - sparse_categorical_accuracy: 0.9989 - val_loss: 0.2023 - val_sparse_categorical_accuracy: 0.9708\n",
            "Epoch 51/100\n",
            "469/469 [==============================] - 2s 5ms/step - loss: 0.0024 - sparse_categorical_accuracy: 0.9994 - val_loss: 0.2109 - val_sparse_categorical_accuracy: 0.9730\n",
            "Epoch 52/100\n",
            "469/469 [==============================] - 2s 4ms/step - loss: 0.0061 - sparse_categorical_accuracy: 0.9982 - val_loss: 0.1893 - val_sparse_categorical_accuracy: 0.9726\n",
            "Epoch 53/100\n",
            "469/469 [==============================] - 2s 4ms/step - loss: 0.0046 - sparse_categorical_accuracy: 0.9988 - val_loss: 0.1927 - val_sparse_categorical_accuracy: 0.9707\n",
            "Epoch 54/100\n",
            "469/469 [==============================] - 2s 4ms/step - loss: 0.0021 - sparse_categorical_accuracy: 0.9994 - val_loss: 0.1913 - val_sparse_categorical_accuracy: 0.9739\n",
            "Epoch 55/100\n",
            "469/469 [==============================] - 2s 5ms/step - loss: 0.0032 - sparse_categorical_accuracy: 0.9991 - val_loss: 0.2128 - val_sparse_categorical_accuracy: 0.9700\n",
            "Epoch 56/100\n",
            "469/469 [==============================] - 2s 5ms/step - loss: 0.0054 - sparse_categorical_accuracy: 0.9985 - val_loss: 0.2042 - val_sparse_categorical_accuracy: 0.9694\n",
            "Epoch 57/100\n",
            "469/469 [==============================] - 2s 5ms/step - loss: 0.0052 - sparse_categorical_accuracy: 0.9986 - val_loss: 0.1901 - val_sparse_categorical_accuracy: 0.9699\n",
            "Epoch 58/100\n",
            "469/469 [==============================] - 2s 4ms/step - loss: 0.0034 - sparse_categorical_accuracy: 0.9990 - val_loss: 0.1847 - val_sparse_categorical_accuracy: 0.9711\n",
            "Epoch 59/100\n",
            "469/469 [==============================] - 2s 4ms/step - loss: 0.0024 - sparse_categorical_accuracy: 0.9994 - val_loss: 0.1932 - val_sparse_categorical_accuracy: 0.9728\n",
            "Epoch 60/100\n",
            "469/469 [==============================] - 2s 5ms/step - loss: 0.0018 - sparse_categorical_accuracy: 0.9997 - val_loss: 0.1994 - val_sparse_categorical_accuracy: 0.9735\n",
            "Epoch 61/100\n",
            "469/469 [==============================] - 2s 4ms/step - loss: 1.4531e-04 - sparse_categorical_accuracy: 1.0000 - val_loss: 0.2005 - val_sparse_categorical_accuracy: 0.9747\n",
            "Epoch 62/100\n",
            "469/469 [==============================] - 2s 4ms/step - loss: 4.2210e-05 - sparse_categorical_accuracy: 1.0000 - val_loss: 0.2061 - val_sparse_categorical_accuracy: 0.9747\n",
            "Epoch 63/100\n",
            "469/469 [==============================] - 2s 5ms/step - loss: 2.1793e-05 - sparse_categorical_accuracy: 1.0000 - val_loss: 0.2124 - val_sparse_categorical_accuracy: 0.9750\n",
            "Epoch 64/100\n",
            "469/469 [==============================] - 2s 4ms/step - loss: 1.4805e-05 - sparse_categorical_accuracy: 1.0000 - val_loss: 0.2172 - val_sparse_categorical_accuracy: 0.9750\n",
            "Epoch 65/100\n",
            "469/469 [==============================] - 2s 4ms/step - loss: 1.0864e-05 - sparse_categorical_accuracy: 1.0000 - val_loss: 0.2241 - val_sparse_categorical_accuracy: 0.9750\n",
            "Epoch 66/100\n",
            "469/469 [==============================] - 2s 5ms/step - loss: 8.1022e-06 - sparse_categorical_accuracy: 1.0000 - val_loss: 0.2301 - val_sparse_categorical_accuracy: 0.9750\n",
            "Epoch 67/100\n",
            "469/469 [==============================] - 2s 5ms/step - loss: 6.1174e-06 - sparse_categorical_accuracy: 1.0000 - val_loss: 0.2354 - val_sparse_categorical_accuracy: 0.9750\n",
            "Epoch 68/100\n",
            "469/469 [==============================] - 2s 4ms/step - loss: 4.6347e-06 - sparse_categorical_accuracy: 1.0000 - val_loss: 0.2413 - val_sparse_categorical_accuracy: 0.9750\n",
            "Epoch 69/100\n",
            "469/469 [==============================] - 2s 4ms/step - loss: 3.5168e-06 - sparse_categorical_accuracy: 1.0000 - val_loss: 0.2465 - val_sparse_categorical_accuracy: 0.9749\n",
            "Epoch 70/100\n",
            "469/469 [==============================] - 2s 4ms/step - loss: 2.6903e-06 - sparse_categorical_accuracy: 1.0000 - val_loss: 0.2524 - val_sparse_categorical_accuracy: 0.9750\n",
            "Epoch 71/100\n",
            "469/469 [==============================] - 2s 5ms/step - loss: 2.0374e-06 - sparse_categorical_accuracy: 1.0000 - val_loss: 0.2588 - val_sparse_categorical_accuracy: 0.9750\n",
            "Epoch 72/100\n",
            "469/469 [==============================] - 2s 4ms/step - loss: 1.5503e-06 - sparse_categorical_accuracy: 1.0000 - val_loss: 0.2640 - val_sparse_categorical_accuracy: 0.9749\n",
            "Epoch 73/100\n",
            "469/469 [==============================] - 2s 4ms/step - loss: 1.1780e-06 - sparse_categorical_accuracy: 1.0000 - val_loss: 0.2700 - val_sparse_categorical_accuracy: 0.9749\n",
            "Epoch 74/100\n",
            "469/469 [==============================] - 2s 5ms/step - loss: 8.9828e-07 - sparse_categorical_accuracy: 1.0000 - val_loss: 0.2755 - val_sparse_categorical_accuracy: 0.9750\n",
            "Epoch 75/100\n",
            "469/469 [==============================] - 2s 5ms/step - loss: 6.9159e-07 - sparse_categorical_accuracy: 1.0000 - val_loss: 0.2814 - val_sparse_categorical_accuracy: 0.9750\n",
            "Epoch 76/100\n",
            "469/469 [==============================] - 2s 4ms/step - loss: 5.3006e-07 - sparse_categorical_accuracy: 1.0000 - val_loss: 0.2871 - val_sparse_categorical_accuracy: 0.9749\n",
            "Epoch 77/100\n",
            "469/469 [==============================] - 2s 4ms/step - loss: 4.0524e-07 - sparse_categorical_accuracy: 1.0000 - val_loss: 0.2925 - val_sparse_categorical_accuracy: 0.9750\n",
            "Epoch 78/100\n",
            "469/469 [==============================] - 2s 4ms/step - loss: 3.1105e-07 - sparse_categorical_accuracy: 1.0000 - val_loss: 0.2984 - val_sparse_categorical_accuracy: 0.9748\n",
            "Epoch 79/100\n",
            "469/469 [==============================] - 2s 5ms/step - loss: 2.3877e-07 - sparse_categorical_accuracy: 1.0000 - val_loss: 0.3045 - val_sparse_categorical_accuracy: 0.9750\n",
            "Epoch 80/100\n",
            "469/469 [==============================] - 2s 5ms/step - loss: 1.8184e-07 - sparse_categorical_accuracy: 1.0000 - val_loss: 0.3094 - val_sparse_categorical_accuracy: 0.9750\n",
            "Epoch 81/100\n",
            "469/469 [==============================] - 2s 5ms/step - loss: 1.4023e-07 - sparse_categorical_accuracy: 1.0000 - val_loss: 0.3148 - val_sparse_categorical_accuracy: 0.9750\n",
            "Epoch 82/100\n",
            "469/469 [==============================] - 2s 4ms/step - loss: 1.0720e-07 - sparse_categorical_accuracy: 1.0000 - val_loss: 0.3204 - val_sparse_categorical_accuracy: 0.9753\n",
            "Epoch 83/100\n",
            "469/469 [==============================] - 2s 4ms/step - loss: 8.2524e-08 - sparse_categorical_accuracy: 1.0000 - val_loss: 0.3266 - val_sparse_categorical_accuracy: 0.9753\n",
            "Epoch 84/100\n",
            "469/469 [==============================] - 2s 4ms/step - loss: 6.3583e-08 - sparse_categorical_accuracy: 1.0000 - val_loss: 0.3323 - val_sparse_categorical_accuracy: 0.9753\n",
            "Epoch 85/100\n",
            "469/469 [==============================] - 2s 5ms/step - loss: 4.9356e-08 - sparse_categorical_accuracy: 1.0000 - val_loss: 0.3370 - val_sparse_categorical_accuracy: 0.9751\n",
            "Epoch 86/100\n",
            "469/469 [==============================] - 2s 4ms/step - loss: 3.8001e-08 - sparse_categorical_accuracy: 1.0000 - val_loss: 0.3426 - val_sparse_categorical_accuracy: 0.9751\n",
            "Epoch 87/100\n",
            "469/469 [==============================] - 2s 4ms/step - loss: 2.9427e-08 - sparse_categorical_accuracy: 1.0000 - val_loss: 0.3480 - val_sparse_categorical_accuracy: 0.9751\n",
            "Epoch 88/100\n",
            "469/469 [==============================] - 2s 5ms/step - loss: 2.2753e-08 - sparse_categorical_accuracy: 1.0000 - val_loss: 0.3540 - val_sparse_categorical_accuracy: 0.9753\n",
            "Epoch 89/100\n",
            "469/469 [==============================] - 2s 4ms/step - loss: 1.7569e-08 - sparse_categorical_accuracy: 1.0000 - val_loss: 0.3597 - val_sparse_categorical_accuracy: 0.9752\n",
            "Epoch 90/100\n",
            "469/469 [==============================] - 2s 5ms/step - loss: 1.3729e-08 - sparse_categorical_accuracy: 1.0000 - val_loss: 0.3645 - val_sparse_categorical_accuracy: 0.9753\n",
            "Epoch 91/100\n",
            "469/469 [==============================] - 2s 5ms/step - loss: 1.0663e-08 - sparse_categorical_accuracy: 1.0000 - val_loss: 0.3692 - val_sparse_categorical_accuracy: 0.9753\n",
            "Epoch 92/100\n",
            "469/469 [==============================] - 2s 4ms/step - loss: 8.3585e-09 - sparse_categorical_accuracy: 1.0000 - val_loss: 0.3751 - val_sparse_categorical_accuracy: 0.9754\n",
            "Epoch 93/100\n",
            "469/469 [==============================] - 2s 4ms/step - loss: 6.4234e-09 - sparse_categorical_accuracy: 1.0000 - val_loss: 0.3802 - val_sparse_categorical_accuracy: 0.9753\n",
            "Epoch 94/100\n",
            "469/469 [==============================] - 2s 4ms/step - loss: 5.0863e-09 - sparse_categorical_accuracy: 1.0000 - val_loss: 0.3848 - val_sparse_categorical_accuracy: 0.9754\n",
            "Epoch 95/100\n",
            "469/469 [==============================] - 2s 4ms/step - loss: 4.0074e-09 - sparse_categorical_accuracy: 1.0000 - val_loss: 0.3894 - val_sparse_categorical_accuracy: 0.9754\n",
            "Epoch 96/100\n",
            "469/469 [==============================] - 2s 5ms/step - loss: 3.1888e-09 - sparse_categorical_accuracy: 1.0000 - val_loss: 0.3943 - val_sparse_categorical_accuracy: 0.9754\n",
            "Epoch 97/100\n",
            "469/469 [==============================] - 2s 4ms/step - loss: 2.5292e-09 - sparse_categorical_accuracy: 1.0000 - val_loss: 0.3988 - val_sparse_categorical_accuracy: 0.9754\n",
            "Epoch 98/100\n",
            "469/469 [==============================] - 2s 4ms/step - loss: 1.9987e-09 - sparse_categorical_accuracy: 1.0000 - val_loss: 0.4033 - val_sparse_categorical_accuracy: 0.9754\n",
            "Epoch 99/100\n",
            "469/469 [==============================] - 2s 4ms/step - loss: 1.6212e-09 - sparse_categorical_accuracy: 1.0000 - val_loss: 0.4072 - val_sparse_categorical_accuracy: 0.9754\n",
            "Epoch 100/100\n",
            "469/469 [==============================] - 2s 5ms/step - loss: 1.3113e-09 - sparse_categorical_accuracy: 1.0000 - val_loss: 0.4108 - val_sparse_categorical_accuracy: 0.9754\n"
          ]
        }
      ]
    },
    {
      "cell_type": "code",
      "source": [
        "y_pred  = fc_model.predict(X_test)\n",
        "y_pred[-3]"
      ],
      "metadata": {
        "colab": {
          "base_uri": "https://localhost:8080/"
        },
        "id": "HoAcyIhR1mu_",
        "outputId": "4789fb9e-f6f0-4385-b13d-8ad607290914"
      },
      "execution_count": null,
      "outputs": [
        {
          "output_type": "stream",
          "name": "stdout",
          "text": [
            "625/625 [==============================] - 1s 2ms/step\n"
          ]
        },
        {
          "output_type": "execute_result",
          "data": {
            "text/plain": [
              "array([3.2508711e-18, 4.9015733e-14, 2.5341728e-14, 7.6776504e-25,\n",
              "       2.7290787e-14, 1.2427721e-26, 6.9784429e-14, 8.5637201e-20,\n",
              "       7.9947679e-14, 1.0000000e+00], dtype=float32)"
            ]
          },
          "metadata": {},
          "execution_count": 66
        }
      ]
    },
    {
      "cell_type": "code",
      "source": [
        "predicted_categories = np.argmax(y_pred, axis = 1)\n",
        "predicted_categories[-3]"
      ],
      "metadata": {
        "colab": {
          "base_uri": "https://localhost:8080/"
        },
        "id": "u_hfoSeW5UrF",
        "outputId": "96d506c9-b848-4017-ce79-b13ae2cb8761"
      },
      "execution_count": null,
      "outputs": [
        {
          "output_type": "execute_result",
          "data": {
            "text/plain": [
              "9"
            ]
          },
          "metadata": {},
          "execution_count": 67
        }
      ]
    },
    {
      "cell_type": "code",
      "source": [
        "print(classification_report(y_test,predicted_categories,digits=4))"
      ],
      "metadata": {
        "colab": {
          "base_uri": "https://localhost:8080/"
        },
        "id": "CQbkc7pb8THD",
        "outputId": "fefb8e83-fed1-47a3-fc23-3cf843b5b24e"
      },
      "execution_count": null,
      "outputs": [
        {
          "output_type": "stream",
          "name": "stdout",
          "text": [
            "              precision    recall  f1-score   support\n",
            "\n",
            "         0.0     0.9940    0.9880    0.9910      2000\n",
            "         1.0     0.9736    0.9955    0.9844      2000\n",
            "         2.0     0.9495    0.9680    0.9587      2000\n",
            "         3.0     0.9561    0.9470    0.9515      2000\n",
            "         4.0     0.9620    0.9615    0.9617      2000\n",
            "         5.0     0.9791    0.9850    0.9821      2000\n",
            "         6.0     0.9828    0.9735    0.9781      2000\n",
            "         7.0     0.9919    0.9820    0.9869      2000\n",
            "         8.0     0.9894    0.9815    0.9854      2000\n",
            "         9.0     0.9769    0.9725    0.9747      2000\n",
            "\n",
            "    accuracy                         0.9755     20000\n",
            "   macro avg     0.9755    0.9755    0.9755     20000\n",
            "weighted avg     0.9755    0.9755    0.9755     20000\n",
            "\n"
          ]
        }
      ]
    },
    {
      "cell_type": "code",
      "source": [
        "plt.plot(history.history['loss'])\n",
        "plt.plot(history.history['val_loss'])\n",
        "plt.legend(['train_loss', 'val_loss']);"
      ],
      "metadata": {
        "colab": {
          "base_uri": "https://localhost:8080/",
          "height": 282
        },
        "id": "2TlCrPuxp_9z",
        "outputId": "e4def1ba-3ac2-40a7-b7fc-2fc6cd25d1c9"
      },
      "execution_count": null,
      "outputs": [
        {
          "output_type": "display_data",
          "data": {
            "text/plain": [
              "<Figure size 432x288 with 1 Axes>"
            ],
            "image/png": "[encoded data removed]"
          },
          "metadata": {}
        }
      ]
    },
    {
      "cell_type": "markdown",
      "source": [
        "CNN"
      ],
      "metadata": {
        "id": "W1R3T5WRPdRO"
      }
    },
    {
      "cell_type": "code",
      "source": [
        "from tensorflow.keras.layers import Input, Dense, Conv2D, Dropout, MaxPooling2D,AveragePooling2D ,Flatten"
      ],
      "metadata": {
        "id": "2vT7trWxPcyg"
      },
      "execution_count": 3,
      "outputs": []
    },
    {
      "cell_type": "code",
      "source": [
        "X_train, y_train = read_hoda_dataset('/content/HodaDatasetReader/DigitDB/Train 60000.cdb')\n",
        "X_test, y_test = read_hoda_dataset('/content/HodaDatasetReader/DigitDB/Test 20000.cdb')"
      ],
      "metadata": {
        "id": "g7NJkYd-WY8i"
      },
      "execution_count": 4,
      "outputs": []
    },
    {
      "cell_type": "code",
      "source": [
        "min_max = MinMaxScaler()\n",
        "X_train = min_max.fit_transform(X_train)\n",
        "X_test = min_max.transform(X_test)"
      ],
      "metadata": {
        "id": "MXJWfTZvWc0M"
      },
      "execution_count": 5,
      "outputs": []
    },
    {
      "cell_type": "code",
      "source": [
        "X_train = np.array([X_train[i].reshape(32,32) for i in range(len(X_train))])\n",
        "X_test = np.array([X_test[i].reshape(32,32) for i in range(len(X_test))])"
      ],
      "metadata": {
        "id": "N9Pj5HieXKWx"
      },
      "execution_count": 6,
      "outputs": []
    },
    {
      "cell_type": "code",
      "source": [
        "n_features = X_train.shape[1]"
      ],
      "metadata": {
        "id": "Ol1Ryd1_WfSO"
      },
      "execution_count": 7,
      "outputs": []
    },
    {
      "cell_type": "code",
      "source": [
        "inpx = Input(shape=(n_features,n_features,1,))\n",
        "layer1 = Conv2D(32, kernel_size=(3, 3), activation='relu')(inpx)\n",
        "layer2 = Conv2D(64, (3, 3), activation='relu')(layer1)\n",
        "layer3 = MaxPooling2D(pool_size=(3, 3))(layer2)\n",
        "layer4 = Dropout(0.5)(layer3)\n",
        "layer5 = Flatten()(layer4)\n",
        "layer6 = Dense(250, activation='sigmoid')(layer5)\n",
        "layer7 = Dense(10, activation='softmax')(layer6)"
      ],
      "metadata": {
        "id": "k2yrfsPGRldH"
      },
      "execution_count": null,
      "outputs": []
    },
    {
      "cell_type": "code",
      "source": [
        "model = Model([inpx], layer7)\n",
        "model.compile(optimizer=tf.keras.optimizers.Adam(),\n",
        "              loss=tf.keras.losses.SparseCategoricalCrossentropy(),\n",
        "              metrics= tf.keras.metrics.SparseCategoricalAccuracy())\n",
        " \n",
        "model.fit(X_train, y_train,validation_data=(X_test, y_test),epochs=50, batch_size=128)"
      ],
      "metadata": {
        "colab": {
          "base_uri": "https://localhost:8080/"
        },
        "id": "Uao62slMTf-W",
        "outputId": "ecfc47e4-d98d-44a2-9410-012a89767d93"
      },
      "execution_count": null,
      "outputs": [
        {
          "output_type": "stream",
          "name": "stdout",
          "text": [
            "Epoch 1/50\n",
            "469/469 [==============================] - 14s 11ms/step - loss: 0.1550 - sparse_categorical_accuracy: 0.9556 - val_loss: 0.0906 - val_sparse_categorical_accuracy: 0.9726\n",
            "Epoch 2/50\n",
            "469/469 [==============================] - 6s 12ms/step - loss: 0.0421 - sparse_categorical_accuracy: 0.9878 - val_loss: 0.0624 - val_sparse_categorical_accuracy: 0.9807\n",
            "Epoch 3/50\n",
            "469/469 [==============================] - 5s 11ms/step - loss: 0.0263 - sparse_categorical_accuracy: 0.9922 - val_loss: 0.0435 - val_sparse_categorical_accuracy: 0.9862\n",
            "Epoch 4/50\n",
            "469/469 [==============================] - 5s 11ms/step - loss: 0.0199 - sparse_categorical_accuracy: 0.9939 - val_loss: 0.0333 - val_sparse_categorical_accuracy: 0.9896\n",
            "Epoch 5/50\n",
            "469/469 [==============================] - 5s 11ms/step - loss: 0.0151 - sparse_categorical_accuracy: 0.9958 - val_loss: 0.0399 - val_sparse_categorical_accuracy: 0.9881\n",
            "Epoch 6/50\n",
            "469/469 [==============================] - 6s 12ms/step - loss: 0.0131 - sparse_categorical_accuracy: 0.9959 - val_loss: 0.0286 - val_sparse_categorical_accuracy: 0.9908\n",
            "Epoch 7/50\n",
            "469/469 [==============================] - 6s 12ms/step - loss: 0.0113 - sparse_categorical_accuracy: 0.9965 - val_loss: 0.0306 - val_sparse_categorical_accuracy: 0.9901\n",
            "Epoch 8/50\n",
            "469/469 [==============================] - 5s 11ms/step - loss: 0.0085 - sparse_categorical_accuracy: 0.9974 - val_loss: 0.0346 - val_sparse_categorical_accuracy: 0.9889\n",
            "Epoch 9/50\n",
            "469/469 [==============================] - 5s 11ms/step - loss: 0.0080 - sparse_categorical_accuracy: 0.9977 - val_loss: 0.0284 - val_sparse_categorical_accuracy: 0.9912\n",
            "Epoch 10/50\n",
            "469/469 [==============================] - 5s 11ms/step - loss: 0.0063 - sparse_categorical_accuracy: 0.9982 - val_loss: 0.0274 - val_sparse_categorical_accuracy: 0.9921\n",
            "Epoch 11/50\n",
            "469/469 [==============================] - 6s 12ms/step - loss: 0.0056 - sparse_categorical_accuracy: 0.9984 - val_loss: 0.0298 - val_sparse_categorical_accuracy: 0.9909\n",
            "Epoch 12/50\n",
            "469/469 [==============================] - 5s 11ms/step - loss: 0.0053 - sparse_categorical_accuracy: 0.9984 - val_loss: 0.0302 - val_sparse_categorical_accuracy: 0.9908\n",
            "Epoch 13/50\n",
            "469/469 [==============================] - 5s 10ms/step - loss: 0.0046 - sparse_categorical_accuracy: 0.9988 - val_loss: 0.0280 - val_sparse_categorical_accuracy: 0.9917\n",
            "Epoch 14/50\n",
            "469/469 [==============================] - 6s 12ms/step - loss: 0.0043 - sparse_categorical_accuracy: 0.9988 - val_loss: 0.0292 - val_sparse_categorical_accuracy: 0.9916\n",
            "Epoch 15/50\n",
            "469/469 [==============================] - 5s 11ms/step - loss: 0.0047 - sparse_categorical_accuracy: 0.9985 - val_loss: 0.0270 - val_sparse_categorical_accuracy: 0.9919\n",
            "Epoch 16/50\n",
            "469/469 [==============================] - 5s 11ms/step - loss: 0.0037 - sparse_categorical_accuracy: 0.9989 - val_loss: 0.0247 - val_sparse_categorical_accuracy: 0.9927\n",
            "Epoch 17/50\n",
            "469/469 [==============================] - 5s 11ms/step - loss: 0.0036 - sparse_categorical_accuracy: 0.9990 - val_loss: 0.0245 - val_sparse_categorical_accuracy: 0.9924\n",
            "Epoch 18/50\n",
            "469/469 [==============================] - 5s 11ms/step - loss: 0.0025 - sparse_categorical_accuracy: 0.9994 - val_loss: 0.0284 - val_sparse_categorical_accuracy: 0.9918\n",
            "Epoch 19/50\n",
            "469/469 [==============================] - 5s 11ms/step - loss: 0.0034 - sparse_categorical_accuracy: 0.9989 - val_loss: 0.0309 - val_sparse_categorical_accuracy: 0.9911\n",
            "Epoch 20/50\n",
            "469/469 [==============================] - 5s 11ms/step - loss: 0.0031 - sparse_categorical_accuracy: 0.9990 - val_loss: 0.0284 - val_sparse_categorical_accuracy: 0.9923\n",
            "Epoch 21/50\n",
            "469/469 [==============================] - 6s 12ms/step - loss: 0.0018 - sparse_categorical_accuracy: 0.9996 - val_loss: 0.0260 - val_sparse_categorical_accuracy: 0.9927\n",
            "Epoch 22/50\n",
            "469/469 [==============================] - 5s 11ms/step - loss: 0.0016 - sparse_categorical_accuracy: 0.9997 - val_loss: 0.0248 - val_sparse_categorical_accuracy: 0.9930\n",
            "Epoch 23/50\n",
            "469/469 [==============================] - 5s 11ms/step - loss: 0.0023 - sparse_categorical_accuracy: 0.9993 - val_loss: 0.0287 - val_sparse_categorical_accuracy: 0.9922\n",
            "Epoch 24/50\n",
            "469/469 [==============================] - 6s 12ms/step - loss: 0.0023 - sparse_categorical_accuracy: 0.9995 - val_loss: 0.0291 - val_sparse_categorical_accuracy: 0.9919\n",
            "Epoch 25/50\n",
            "469/469 [==============================] - 5s 11ms/step - loss: 0.0024 - sparse_categorical_accuracy: 0.9992 - val_loss: 0.0279 - val_sparse_categorical_accuracy: 0.9923\n",
            "Epoch 26/50\n",
            "469/469 [==============================] - 5s 11ms/step - loss: 0.0017 - sparse_categorical_accuracy: 0.9995 - val_loss: 0.0302 - val_sparse_categorical_accuracy: 0.9917\n",
            "Epoch 27/50\n",
            "469/469 [==============================] - 6s 12ms/step - loss: 0.0022 - sparse_categorical_accuracy: 0.9993 - val_loss: 0.0271 - val_sparse_categorical_accuracy: 0.9926\n",
            "Epoch 28/50\n",
            "469/469 [==============================] - 6s 12ms/step - loss: 0.0020 - sparse_categorical_accuracy: 0.9994 - val_loss: 0.0305 - val_sparse_categorical_accuracy: 0.9925\n",
            "Epoch 29/50\n",
            "469/469 [==============================] - 6s 12ms/step - loss: 0.0015 - sparse_categorical_accuracy: 0.9995 - val_loss: 0.0324 - val_sparse_categorical_accuracy: 0.9911\n",
            "Epoch 30/50\n",
            "469/469 [==============================] - 6s 12ms/step - loss: 0.0012 - sparse_categorical_accuracy: 0.9997 - val_loss: 0.0308 - val_sparse_categorical_accuracy: 0.9922\n",
            "Epoch 31/50\n",
            "469/469 [==============================] - 6s 12ms/step - loss: 0.0011 - sparse_categorical_accuracy: 0.9997 - val_loss: 0.0268 - val_sparse_categorical_accuracy: 0.9924\n",
            "Epoch 32/50\n",
            "469/469 [==============================] - 6s 12ms/step - loss: 0.0012 - sparse_categorical_accuracy: 0.9997 - val_loss: 0.0278 - val_sparse_categorical_accuracy: 0.9929\n",
            "Epoch 33/50\n",
            "469/469 [==============================] - 5s 11ms/step - loss: 0.0019 - sparse_categorical_accuracy: 0.9994 - val_loss: 0.0292 - val_sparse_categorical_accuracy: 0.9926\n",
            "Epoch 34/50\n",
            "469/469 [==============================] - 5s 11ms/step - loss: 0.0015 - sparse_categorical_accuracy: 0.9995 - val_loss: 0.0289 - val_sparse_categorical_accuracy: 0.9920\n",
            "Epoch 35/50\n",
            "469/469 [==============================] - 5s 11ms/step - loss: 0.0012 - sparse_categorical_accuracy: 0.9997 - val_loss: 0.0278 - val_sparse_categorical_accuracy: 0.9927\n",
            "Epoch 36/50\n",
            "469/469 [==============================] - 6s 12ms/step - loss: 8.6242e-04 - sparse_categorical_accuracy: 0.9998 - val_loss: 0.0296 - val_sparse_categorical_accuracy: 0.9929\n",
            "Epoch 37/50\n",
            "469/469 [==============================] - 5s 11ms/step - loss: 0.0011 - sparse_categorical_accuracy: 0.9997 - val_loss: 0.0299 - val_sparse_categorical_accuracy: 0.9923\n",
            "Epoch 38/50\n",
            "469/469 [==============================] - 6s 12ms/step - loss: 0.0012 - sparse_categorical_accuracy: 0.9997 - val_loss: 0.0302 - val_sparse_categorical_accuracy: 0.9923\n",
            "Epoch 39/50\n",
            "469/469 [==============================] - 5s 11ms/step - loss: 0.0015 - sparse_categorical_accuracy: 0.9996 - val_loss: 0.0359 - val_sparse_categorical_accuracy: 0.9920\n",
            "Epoch 40/50\n",
            "469/469 [==============================] - 5s 11ms/step - loss: 0.0014 - sparse_categorical_accuracy: 0.9996 - val_loss: 0.0293 - val_sparse_categorical_accuracy: 0.9930\n",
            "Epoch 41/50\n",
            "469/469 [==============================] - 6s 12ms/step - loss: 0.0013 - sparse_categorical_accuracy: 0.9997 - val_loss: 0.0291 - val_sparse_categorical_accuracy: 0.9927\n",
            "Epoch 42/50\n",
            "469/469 [==============================] - 5s 11ms/step - loss: 0.0012 - sparse_categorical_accuracy: 0.9996 - val_loss: 0.0323 - val_sparse_categorical_accuracy: 0.9922\n",
            "Epoch 43/50\n",
            "469/469 [==============================] - 5s 11ms/step - loss: 0.0010 - sparse_categorical_accuracy: 0.9997 - val_loss: 0.0299 - val_sparse_categorical_accuracy: 0.9929\n",
            "Epoch 44/50\n",
            "469/469 [==============================] - 5s 11ms/step - loss: 0.0011 - sparse_categorical_accuracy: 0.9996 - val_loss: 0.0322 - val_sparse_categorical_accuracy: 0.9925\n",
            "Epoch 45/50\n",
            "469/469 [==============================] - 5s 11ms/step - loss: 8.8046e-04 - sparse_categorical_accuracy: 0.9998 - val_loss: 0.0316 - val_sparse_categorical_accuracy: 0.9919\n",
            "Epoch 46/50\n",
            "469/469 [==============================] - 6s 12ms/step - loss: 0.0011 - sparse_categorical_accuracy: 0.9996 - val_loss: 0.0313 - val_sparse_categorical_accuracy: 0.9929\n",
            "Epoch 47/50\n",
            "469/469 [==============================] - 5s 11ms/step - loss: 7.1362e-04 - sparse_categorical_accuracy: 0.9998 - val_loss: 0.0326 - val_sparse_categorical_accuracy: 0.9928\n",
            "Epoch 48/50\n",
            "469/469 [==============================] - 6s 12ms/step - loss: 8.7560e-04 - sparse_categorical_accuracy: 0.9997 - val_loss: 0.0318 - val_sparse_categorical_accuracy: 0.9926\n",
            "Epoch 49/50\n",
            "469/469 [==============================] - 6s 12ms/step - loss: 0.0012 - sparse_categorical_accuracy: 0.9996 - val_loss: 0.0327 - val_sparse_categorical_accuracy: 0.9920\n",
            "Epoch 50/50\n",
            "469/469 [==============================] - 6s 12ms/step - loss: 0.0012 - sparse_categorical_accuracy: 0.9997 - val_loss: 0.0362 - val_sparse_categorical_accuracy: 0.9918\n"
          ]
        },
        {
          "output_type": "execute_result",
          "data": {
            "text/plain": [
              "<keras.callbacks.History at 0x7f5c81f780d0>"
            ]
          },
          "metadata": {},
          "execution_count": 10
        }
      ]
    },
    {
      "cell_type": "code",
      "source": [
        "y_pred  = model.predict(X_test)\n",
        "predicted_categories = np.argmax(y_pred, axis = 1)\n",
        "print(classification_report(y_test,predicted_categories,digits=4))"
      ],
      "metadata": {
        "id": "e4GVkoYAUJHm",
        "colab": {
          "base_uri": "https://localhost:8080/"
        },
        "outputId": "898a1aa2-6554-4677-c8a6-efbb369d5a6f"
      },
      "execution_count": null,
      "outputs": [
        {
          "output_type": "stream",
          "name": "stdout",
          "text": [
            "625/625 [==============================] - 1s 2ms/step\n",
            "              precision    recall  f1-score   support\n",
            "\n",
            "         0.0     0.9935    0.9960    0.9948      2000\n",
            "         1.0     0.9896    0.9985    0.9940      2000\n",
            "         2.0     0.9778    0.9910    0.9844      2000\n",
            "         3.0     0.9923    0.9720    0.9821      2000\n",
            "         4.0     0.9851    0.9935    0.9893      2000\n",
            "         5.0     0.9925    0.9945    0.9935      2000\n",
            "         6.0     0.9985    0.9925    0.9955      2000\n",
            "         7.0     0.9980    0.9960    0.9970      2000\n",
            "         8.0     0.9980    0.9960    0.9970      2000\n",
            "         9.0     0.9925    0.9875    0.9900      2000\n",
            "\n",
            "    accuracy                         0.9918     20000\n",
            "   macro avg     0.9918    0.9918    0.9917     20000\n",
            "weighted avg     0.9918    0.9918    0.9917     20000\n",
            "\n"
          ]
        }
      ]
    },
    {
      "cell_type": "markdown",
      "source": [
        "LeNet on Hoda"
      ],
      "metadata": {
        "id": "KaiwwEEd6jr_"
      }
    },
    {
      "cell_type": "code",
      "source": [
        "inpx = Input(shape=(n_features,n_features,1,))\n",
        "layer1 = Conv2D(6, kernel_size=(5, 5), strides=(1,1), activation='relu', padding='valid')(inpx)\n",
        "layer2 = AveragePooling2D(pool_size=(2, 2), strides=(2,2), padding='valid')(layer1)\n",
        "layer3 = Conv2D(16, kernel_size=(5, 5), strides=(1,1), activation='relu', padding='valid')(layer2)\n",
        "layer4 = AveragePooling2D(pool_size=(2, 2), strides=(2,2), padding='valid')(layer3)\n",
        "layer5 = Flatten()(layer4)\n",
        "layer6 = Dense(120, activation='relu')(layer5)\n",
        "layer7 = Dense(84, activation='sigmoid')(layer6)\n",
        "layer8 = Dense(10, activation='softmax')(layer7)\n",
        "\n",
        "model2 = Model(inpx, layer8)\n",
        "opt = tf.keras.optimizers.Adam()\n",
        "loss = tf.keras.losses.SparseCategoricalCrossentropy()\n",
        "model2.compile(optimizer=opt, loss=loss, metrics=['sparse_categorical_accuracy'])\n",
        "history = model2.fit(X_train, y_train, validation_data=(X_test, y_test) ,epochs=50, batch_size=128)"
      ],
      "metadata": {
        "colab": {
          "base_uri": "https://localhost:8080/"
        },
        "id": "p4A4Y0hS6jSa",
        "outputId": "7405c576-49db-421d-ac66-d0d7d6c65f2b"
      },
      "execution_count": null,
      "outputs": [
        {
          "output_type": "stream",
          "name": "stdout",
          "text": [
            "Epoch 1/50\n",
            "469/469 [==============================] - 3s 5ms/step - loss: 0.3607 - sparse_categorical_accuracy: 0.9002 - val_loss: 0.1786 - val_sparse_categorical_accuracy: 0.9475\n",
            "Epoch 2/50\n",
            "469/469 [==============================] - 2s 5ms/step - loss: 0.0802 - sparse_categorical_accuracy: 0.9777 - val_loss: 0.1166 - val_sparse_categorical_accuracy: 0.9645\n",
            "Epoch 3/50\n",
            "469/469 [==============================] - 2s 4ms/step - loss: 0.0520 - sparse_categorical_accuracy: 0.9848 - val_loss: 0.0920 - val_sparse_categorical_accuracy: 0.9711\n",
            "Epoch 4/50\n",
            "469/469 [==============================] - 2s 5ms/step - loss: 0.0378 - sparse_categorical_accuracy: 0.9886 - val_loss: 0.0718 - val_sparse_categorical_accuracy: 0.9776\n",
            "Epoch 5/50\n",
            "469/469 [==============================] - 2s 4ms/step - loss: 0.0289 - sparse_categorical_accuracy: 0.9911 - val_loss: 0.0607 - val_sparse_categorical_accuracy: 0.9820\n",
            "Epoch 6/50\n",
            "469/469 [==============================] - 2s 5ms/step - loss: 0.0243 - sparse_categorical_accuracy: 0.9924 - val_loss: 0.0532 - val_sparse_categorical_accuracy: 0.9819\n",
            "Epoch 7/50\n",
            "469/469 [==============================] - 2s 4ms/step - loss: 0.0190 - sparse_categorical_accuracy: 0.9942 - val_loss: 0.0532 - val_sparse_categorical_accuracy: 0.9835\n",
            "Epoch 8/50\n",
            "469/469 [==============================] - 2s 4ms/step - loss: 0.0168 - sparse_categorical_accuracy: 0.9949 - val_loss: 0.0469 - val_sparse_categorical_accuracy: 0.9854\n",
            "Epoch 9/50\n",
            "469/469 [==============================] - 2s 5ms/step - loss: 0.0138 - sparse_categorical_accuracy: 0.9954 - val_loss: 0.0408 - val_sparse_categorical_accuracy: 0.9875\n",
            "Epoch 10/50\n",
            "469/469 [==============================] - 2s 5ms/step - loss: 0.0117 - sparse_categorical_accuracy: 0.9964 - val_loss: 0.0407 - val_sparse_categorical_accuracy: 0.9879\n",
            "Epoch 11/50\n",
            "469/469 [==============================] - 2s 4ms/step - loss: 0.0097 - sparse_categorical_accuracy: 0.9970 - val_loss: 0.0387 - val_sparse_categorical_accuracy: 0.9880\n",
            "Epoch 12/50\n",
            "469/469 [==============================] - 2s 5ms/step - loss: 0.0081 - sparse_categorical_accuracy: 0.9976 - val_loss: 0.0484 - val_sparse_categorical_accuracy: 0.9863\n",
            "Epoch 13/50\n",
            "469/469 [==============================] - 2s 5ms/step - loss: 0.0079 - sparse_categorical_accuracy: 0.9976 - val_loss: 0.0571 - val_sparse_categorical_accuracy: 0.9830\n",
            "Epoch 14/50\n",
            "469/469 [==============================] - 2s 5ms/step - loss: 0.0076 - sparse_categorical_accuracy: 0.9974 - val_loss: 0.0477 - val_sparse_categorical_accuracy: 0.9872\n",
            "Epoch 15/50\n",
            "469/469 [==============================] - 2s 5ms/step - loss: 0.0066 - sparse_categorical_accuracy: 0.9979 - val_loss: 0.0368 - val_sparse_categorical_accuracy: 0.9892\n",
            "Epoch 16/50\n",
            "469/469 [==============================] - 2s 5ms/step - loss: 0.0054 - sparse_categorical_accuracy: 0.9983 - val_loss: 0.0520 - val_sparse_categorical_accuracy: 0.9856\n",
            "Epoch 17/50\n",
            "469/469 [==============================] - 2s 4ms/step - loss: 0.0039 - sparse_categorical_accuracy: 0.9987 - val_loss: 0.0392 - val_sparse_categorical_accuracy: 0.9887\n",
            "Epoch 18/50\n",
            "469/469 [==============================] - 2s 5ms/step - loss: 0.0048 - sparse_categorical_accuracy: 0.9984 - val_loss: 0.0451 - val_sparse_categorical_accuracy: 0.9872\n",
            "Epoch 19/50\n",
            "469/469 [==============================] - 2s 4ms/step - loss: 0.0034 - sparse_categorical_accuracy: 0.9989 - val_loss: 0.0466 - val_sparse_categorical_accuracy: 0.9876\n",
            "Epoch 20/50\n",
            "469/469 [==============================] - 2s 5ms/step - loss: 0.0037 - sparse_categorical_accuracy: 0.9987 - val_loss: 0.0506 - val_sparse_categorical_accuracy: 0.9879\n",
            "Epoch 21/50\n",
            "469/469 [==============================] - 2s 5ms/step - loss: 0.0039 - sparse_categorical_accuracy: 0.9986 - val_loss: 0.0376 - val_sparse_categorical_accuracy: 0.9905\n",
            "Epoch 22/50\n",
            "469/469 [==============================] - 2s 5ms/step - loss: 0.0024 - sparse_categorical_accuracy: 0.9992 - val_loss: 0.0436 - val_sparse_categorical_accuracy: 0.9884\n",
            "Epoch 23/50\n",
            "469/469 [==============================] - 2s 5ms/step - loss: 0.0035 - sparse_categorical_accuracy: 0.9988 - val_loss: 0.0493 - val_sparse_categorical_accuracy: 0.9884\n",
            "Epoch 24/50\n",
            "469/469 [==============================] - 2s 5ms/step - loss: 0.0032 - sparse_categorical_accuracy: 0.9990 - val_loss: 0.0534 - val_sparse_categorical_accuracy: 0.9877\n",
            "Epoch 25/50\n",
            "469/469 [==============================] - 2s 5ms/step - loss: 0.0024 - sparse_categorical_accuracy: 0.9992 - val_loss: 0.0547 - val_sparse_categorical_accuracy: 0.9872\n",
            "Epoch 26/50\n",
            "469/469 [==============================] - 2s 5ms/step - loss: 0.0011 - sparse_categorical_accuracy: 0.9997 - val_loss: 0.0425 - val_sparse_categorical_accuracy: 0.9900\n",
            "Epoch 27/50\n",
            "469/469 [==============================] - 2s 5ms/step - loss: 0.0024 - sparse_categorical_accuracy: 0.9993 - val_loss: 0.0424 - val_sparse_categorical_accuracy: 0.9897\n",
            "Epoch 28/50\n",
            "469/469 [==============================] - 2s 5ms/step - loss: 0.0024 - sparse_categorical_accuracy: 0.9992 - val_loss: 0.0433 - val_sparse_categorical_accuracy: 0.9897\n",
            "Epoch 29/50\n",
            "469/469 [==============================] - 2s 4ms/step - loss: 0.0012 - sparse_categorical_accuracy: 0.9997 - val_loss: 0.0419 - val_sparse_categorical_accuracy: 0.9901\n",
            "Epoch 30/50\n",
            "469/469 [==============================] - 2s 5ms/step - loss: 0.0030 - sparse_categorical_accuracy: 0.9988 - val_loss: 0.0613 - val_sparse_categorical_accuracy: 0.9851\n",
            "Epoch 31/50\n",
            "469/469 [==============================] - 2s 5ms/step - loss: 0.0030 - sparse_categorical_accuracy: 0.9989 - val_loss: 0.0451 - val_sparse_categorical_accuracy: 0.9887\n",
            "Epoch 32/50\n",
            "469/469 [==============================] - 2s 4ms/step - loss: 0.0011 - sparse_categorical_accuracy: 0.9996 - val_loss: 0.0411 - val_sparse_categorical_accuracy: 0.9905\n",
            "Epoch 33/50\n",
            "469/469 [==============================] - 2s 5ms/step - loss: 4.6041e-04 - sparse_categorical_accuracy: 0.9999 - val_loss: 0.0391 - val_sparse_categorical_accuracy: 0.9912\n",
            "Epoch 34/50\n",
            "469/469 [==============================] - 2s 4ms/step - loss: 7.0595e-04 - sparse_categorical_accuracy: 0.9997 - val_loss: 0.0408 - val_sparse_categorical_accuracy: 0.9912\n",
            "Epoch 35/50\n",
            "469/469 [==============================] - 2s 5ms/step - loss: 1.6522e-04 - sparse_categorical_accuracy: 1.0000 - val_loss: 0.0377 - val_sparse_categorical_accuracy: 0.9919\n",
            "Epoch 36/50\n",
            "469/469 [==============================] - 2s 4ms/step - loss: 6.5393e-05 - sparse_categorical_accuracy: 1.0000 - val_loss: 0.0379 - val_sparse_categorical_accuracy: 0.9918\n",
            "Epoch 37/50\n",
            "469/469 [==============================] - 2s 4ms/step - loss: 5.0283e-05 - sparse_categorical_accuracy: 1.0000 - val_loss: 0.0384 - val_sparse_categorical_accuracy: 0.9920\n",
            "Epoch 38/50\n",
            "469/469 [==============================] - 2s 4ms/step - loss: 3.9387e-05 - sparse_categorical_accuracy: 1.0000 - val_loss: 0.0395 - val_sparse_categorical_accuracy: 0.9919\n",
            "Epoch 39/50\n",
            "469/469 [==============================] - 2s 5ms/step - loss: 3.2185e-05 - sparse_categorical_accuracy: 1.0000 - val_loss: 0.0392 - val_sparse_categorical_accuracy: 0.9923\n",
            "Epoch 40/50\n",
            "469/469 [==============================] - 2s 5ms/step - loss: 2.7171e-05 - sparse_categorical_accuracy: 1.0000 - val_loss: 0.0405 - val_sparse_categorical_accuracy: 0.9919\n",
            "Epoch 41/50\n",
            "469/469 [==============================] - 2s 4ms/step - loss: 2.1970e-05 - sparse_categorical_accuracy: 1.0000 - val_loss: 0.0408 - val_sparse_categorical_accuracy: 0.9923\n",
            "Epoch 42/50\n",
            "469/469 [==============================] - 2s 5ms/step - loss: 1.8315e-05 - sparse_categorical_accuracy: 1.0000 - val_loss: 0.0412 - val_sparse_categorical_accuracy: 0.9921\n",
            "Epoch 43/50\n",
            "469/469 [==============================] - 2s 4ms/step - loss: 1.5135e-05 - sparse_categorical_accuracy: 1.0000 - val_loss: 0.0416 - val_sparse_categorical_accuracy: 0.9922\n",
            "Epoch 44/50\n",
            "469/469 [==============================] - 2s 5ms/step - loss: 1.2665e-05 - sparse_categorical_accuracy: 1.0000 - val_loss: 0.0427 - val_sparse_categorical_accuracy: 0.9919\n",
            "Epoch 45/50\n",
            "469/469 [==============================] - 2s 5ms/step - loss: 1.0023e-05 - sparse_categorical_accuracy: 1.0000 - val_loss: 0.0426 - val_sparse_categorical_accuracy: 0.9922\n",
            "Epoch 46/50\n",
            "469/469 [==============================] - 2s 5ms/step - loss: 8.6384e-06 - sparse_categorical_accuracy: 1.0000 - val_loss: 0.0436 - val_sparse_categorical_accuracy: 0.9923\n",
            "Epoch 47/50\n",
            "469/469 [==============================] - 2s 5ms/step - loss: 0.0100 - sparse_categorical_accuracy: 0.9969 - val_loss: 0.0504 - val_sparse_categorical_accuracy: 0.9876\n",
            "Epoch 48/50\n",
            "469/469 [==============================] - 2s 4ms/step - loss: 0.0016 - sparse_categorical_accuracy: 0.9995 - val_loss: 0.0430 - val_sparse_categorical_accuracy: 0.9903\n",
            "Epoch 49/50\n",
            "469/469 [==============================] - 2s 5ms/step - loss: 0.0017 - sparse_categorical_accuracy: 0.9995 - val_loss: 0.0454 - val_sparse_categorical_accuracy: 0.9902\n",
            "Epoch 50/50\n",
            "469/469 [==============================] - 2s 5ms/step - loss: 5.3014e-04 - sparse_categorical_accuracy: 0.9999 - val_loss: 0.0438 - val_sparse_categorical_accuracy: 0.9909\n"
          ]
        }
      ]
    },
    {
      "cell_type": "code",
      "source": [
        "plt.plot(history.history['loss'])\n",
        "plt.plot(history.history['val_loss'])\n",
        "plt.legend(['train_loss', 'val_loss']);"
      ],
      "metadata": {
        "colab": {
          "base_uri": "https://localhost:8080/",
          "height": 287
        },
        "id": "4n8H_2v-7I6c",
        "outputId": "cd96e550-3f10-41a6-e919-e89b528ef21a"
      },
      "execution_count": null,
      "outputs": [
        {
          "output_type": "display_data",
          "data": {
            "text/plain": [
              "<Figure size 432x288 with 1 Axes>"
            ],
            "image/png": "[encoded data removed]"
          },
          "metadata": {}
        }
      ]
    },
    {
      "cell_type": "code",
      "source": [
        "plt.plot(history.history['sparse_categorical_accuracy'])\n",
        "plt.plot(history.history['val_sparse_categorical_accuracy'])\n",
        "plt.legend(['train_acc', 'val_acc']);"
      ],
      "metadata": {
        "colab": {
          "base_uri": "https://localhost:8080/",
          "height": 282
        },
        "id": "O21T3fEI7ODg",
        "outputId": "b595a2ec-9012-47c3-928c-15c1c8925aae"
      },
      "execution_count": null,
      "outputs": [
        {
          "output_type": "display_data",
          "data": {
            "text/plain": [
              "<Figure size 432x288 with 1 Axes>"
            ],
            "image/png": "[encoded data removed]"
          },
          "metadata": {}
        }
      ]
    },
    {
      "cell_type": "code",
      "source": [
        "y_pred  = model2.predict(X_test)\n",
        "predicted_categories = np.argmax(y_pred, axis = 1)\n",
        "print(classification_report(y_test,predicted_categories,digits=4))"
      ],
      "metadata": {
        "colab": {
          "base_uri": "https://localhost:8080/"
        },
        "id": "lnVX-on-7j_L",
        "outputId": "7e448083-dda9-4107-aea9-602ed2ff428c"
      },
      "execution_count": null,
      "outputs": [
        {
          "output_type": "stream",
          "name": "stdout",
          "text": [
            "625/625 [==============================] - 1s 2ms/step\n",
            "              precision    recall  f1-score   support\n",
            "\n",
            "         0.0     0.9970    0.9930    0.9950      2000\n",
            "         1.0     0.9891    0.9995    0.9943      2000\n",
            "         2.0     0.9792    0.9870    0.9831      2000\n",
            "         3.0     0.9810    0.9805    0.9807      2000\n",
            "         4.0     0.9870    0.9845    0.9857      2000\n",
            "         5.0     0.9930    0.9935    0.9933      2000\n",
            "         6.0     0.9940    0.9920    0.9930      2000\n",
            "         7.0     0.9980    0.9950    0.9965      2000\n",
            "         8.0     0.9965    0.9960    0.9962      2000\n",
            "         9.0     0.9945    0.9880    0.9912      2000\n",
            "\n",
            "    accuracy                         0.9909     20000\n",
            "   macro avg     0.9909    0.9909    0.9909     20000\n",
            "weighted avg     0.9909    0.9909    0.9909     20000\n",
            "\n"
          ]
        }
      ]
    },
    {
      "cell_type": "code",
      "source": [
        "from sklearn.metrics import confusion_matrix\n",
        "import seaborn as sns\n",
        "confusion = confusion_matrix (y_test, predicted_categories , labels=list(np.arange(0,10)))\n",
        "plt.figure(figsize=(10,8))\n",
        "sns.heatmap(confusion, annot=True, fmt='d', cmap='cool',linewidths=0.5);"
      ],
      "metadata": {
        "colab": {
          "base_uri": "https://localhost:8080/",
          "height": 515
        },
        "id": "-em5osfdBKPk",
        "outputId": "a823b1f3-f26c-4e9f-e29d-f0114ac6d5f0"
      },
      "execution_count": null,
      "outputs": [
        {
          "output_type": "display_data",
          "data": {
            "text/plain": [
              "<Figure size 720x576 with 2 Axes>"
            ],
            "image/png": "[encoded data removed]"
          },
          "metadata": {}
        }
      ]
    },
    {
      "cell_type": "markdown",
      "source": [
        "Effect of BatchSize and Epochs"
      ],
      "metadata": {
        "id": "JgjjeCsLhtsk"
      }
    },
    {
      "cell_type": "code",
      "source": [
        "inpx = Input(shape=(n_features,n_features,1,))\n",
        "layer1 = Conv2D(6, kernel_size=(5, 5), strides=(1,1), activation='relu', padding='valid')(inpx)\n",
        "layer2 = AveragePooling2D(pool_size=(2, 2), strides=(2,2), padding='valid')(layer1)\n",
        "layer3 = Conv2D(16, kernel_size=(5, 5), strides=(1,1), activation='relu', padding='valid')(layer2)\n",
        "layer4 = AveragePooling2D(pool_size=(2, 2), strides=(2,2), padding='valid')(layer3)\n",
        "layer5 = Flatten()(layer4)\n",
        "layer6 = Dense(120, activation='relu')(layer5)\n",
        "layer7 = Dense(84, activation='sigmoid')(layer6)\n",
        "layer8 = Dense(10, activation='softmax')(layer7)\n",
        "opt = tf.keras.optimizers.Adam()\n",
        "loss = tf.keras.losses.SparseCategoricalCrossentropy()\n",
        "def compare(epochs,batch_size):\n",
        "  model3 = Model(inpx, layer8)\n",
        "  model3.compile(optimizer=opt, loss=loss, metrics=['sparse_categorical_accuracy'])\n",
        "  start_tra = perf_counter()\n",
        "  history = model3.fit(X_train, y_train, validation_data=(X_test, y_test), verbose=False ,epochs=epochs, batch_size=batch_size)\n",
        "  end_tra = perf_counter()\n",
        "  y_pred  = model3.predict(X_test)\n",
        "  predicted_categories = np.argmax(y_pred, axis = 1)\n",
        "  time = end_tra - start_tra\n",
        "  return f1_score(y_test,predicted_categories,average='macro') , time"
      ],
      "metadata": {
        "id": "EYsdjpgAhtH7"
      },
      "execution_count": null,
      "outputs": []
    },
    {
      "cell_type": "code",
      "source": [
        "# batch size\n",
        "scores_b = []\n",
        "times_b = []\n",
        "for i in tqdm([16,32,64,128,256]):\n",
        "  score , time = compare(20,i)\n",
        "  scores_b.append(score)\n",
        "  times_b.append(time)"
      ],
      "metadata": {
        "colab": {
          "base_uri": "https://localhost:8080/",
          "height": 136,
          "referenced_widgets": [
            "866fd0b1813e4c59a6cbf9d876ea8cbf",
            "3c8596a3274a417dba44b8340352637c",
            "17c7fc4483534dfeb1e5e811b550c596",
            "40b3b7e1a03e4222874b34c31090f16b",
            "6873135509d64bbc8a566e354023cedf",
            "49e33ad1b8964192a5979af828fd12fe",
            "bd92a8d702a24bc99422618003b2913b",
            "d6c63c3932874891bc0ad6ece65038e0",
            "037ecb94456a4bc0aa13da5795b3845d",
            "145ce111ff91402db56699b07aec77fe",
            "6fcaf97a50cb48e7a8dbce54e177302e"
          ]
        },
        "id": "hxBRWY8yiBAW",
        "outputId": "9f938dc2-9f81-4cd1-ca45-ca5fdc3e5d22"
      },
      "execution_count": null,
      "outputs": [
        {
          "output_type": "display_data",
          "data": {
            "text/plain": [
              "  0%|          | 0/5 [00:00<?, ?it/s]"
            ],
            "application/vnd.jupyter.widget-view+json": {
              "version_major": 2,
              "version_minor": 0,
              "model_id": "866fd0b1813e4c59a6cbf9d876ea8cbf"
            }
          },
          "metadata": {}
        },
        {
          "output_type": "stream",
          "name": "stdout",
          "text": [
            "625/625 [==============================] - 1s 2ms/step\n",
            "625/625 [==============================] - 1s 2ms/step\n",
            "625/625 [==============================] - 1s 2ms/step\n",
            "625/625 [==============================] - 1s 2ms/step\n",
            "625/625 [==============================] - 1s 2ms/step\n"
          ]
        }
      ]
    },
    {
      "cell_type": "code",
      "source": [
        "score_time_b = pd.DataFrame()\n",
        "score_time_b['scores'] = scores_b\n",
        "score_time_b['times'] = times_b\n",
        "score_time_b['batch_size'] = [16,32,64,128,256]\n",
        "score_time_b=score_time_b.set_index('batch_size')\n",
        "\n",
        "ax = score_time_b[['scores','times']].plot(kind='bar',subplots=True,legend=False,figsize=(10,8))\n",
        "ax[0].set_ylim([0.988, 0.99380]);\n",
        "ax[0].set_xlabel('Batch Size');\n",
        "ax[0].set_title('Model Accuracy on Test Data')\n",
        "ax[1].set_xlabel('Batch Size');\n",
        "ax[1].set_title('Training Time(s)');"
      ],
      "metadata": {
        "colab": {
          "base_uri": "https://localhost:8080/",
          "height": 571
        },
        "id": "_6F7pDQzU9RV",
        "outputId": "3dcc0942-5ded-4927-cb4a-e6287829fdd2"
      },
      "execution_count": null,
      "outputs": [
        {
          "output_type": "display_data",
          "data": {
            "text/plain": [
              "<Figure size 720x576 with 2 Axes>"
            ],
            "image/png": "[encoded data removed]"
          },
          "metadata": {}
        }
      ]
    },
    {
      "cell_type": "code",
      "source": [
        "# epochs\n",
        "scores = []\n",
        "times = []\n",
        "for i in tqdm([20,50,100]):\n",
        "  score , time = compare(i,128)\n",
        "  scores.append(score)\n",
        "  times.append(time)"
      ],
      "metadata": {
        "colab": {
          "base_uri": "https://localhost:8080/",
          "height": 101,
          "referenced_widgets": [
            "4942dcb5df9c48afb3690579e1ace1af",
            "ef6c4927c48a4c0fb724e5f2e378c72a",
            "e9b913a9c81a4ee7afcbff159b2d5080",
            "a679296286244949ba6aa2f7070fa8c1",
            "174653fa0f6747dc9d430e2f782b72bb",
            "80b51194bcec43ccae73e87e6fc7b8a0",
            "499d2e2277014ed797ab147d3b19a372",
            "a52a031046a14cc99735ce26514d877e",
            "34337da5984049a48cf468b12b7adb94",
            "f27044d77e364128916b55025bf7b2ca",
            "f0abd280caae47789ba97f8c5d868a11"
          ]
        },
        "id": "NdoSLxDtjr0q",
        "outputId": "3526b249-d3f8-41a2-9339-77e465f16b54"
      },
      "execution_count": null,
      "outputs": [
        {
          "output_type": "display_data",
          "data": {
            "text/plain": [
              "  0%|          | 0/3 [00:00<?, ?it/s]"
            ],
            "application/vnd.jupyter.widget-view+json": {
              "version_major": 2,
              "version_minor": 0,
              "model_id": "4942dcb5df9c48afb3690579e1ace1af"
            }
          },
          "metadata": {}
        },
        {
          "output_type": "stream",
          "name": "stdout",
          "text": [
            "625/625 [==============================] - 1s 2ms/step\n",
            "625/625 [==============================] - 1s 2ms/step\n",
            "625/625 [==============================] - 1s 2ms/step\n"
          ]
        }
      ]
    },
    {
      "cell_type": "code",
      "source": [
        "score_time_df = pd.DataFrame()\n",
        "score_time_df['scores'] = scores\n",
        "score_time_df['times'] = times\n",
        "score_time_df['epochs'] = [20,50,100]\n",
        "score_time_df=score_time_df.set_index('epochs')\n",
        "\n",
        "ax = score_time_df[['scores','times']].plot(kind='bar',subplots=True,legend=False,figsize=(10,8))\n",
        "ax[0].set_ylim([0.993, 0.9932]);\n",
        "ax[0].set_xlabel('Epochs');\n",
        "ax[0].set_title('Model Accuracy on Test Data')\n",
        "ax[1].set_xlabel('Epochs');\n",
        "ax[1].set_title('Training Time(s)');"
      ],
      "metadata": {
        "colab": {
          "base_uri": "https://localhost:8080/",
          "height": 570
        },
        "id": "IEadYbQLVJ1D",
        "outputId": "9b1807b5-e845-4ba5-918f-1521c2d7bed6"
      },
      "execution_count": null,
      "outputs": [
        {
          "output_type": "display_data",
          "data": {
            "text/plain": [
              "<Figure size 720x576 with 2 Axes>"
            ],
            "image/png": "[encoded data removed]"
          },
          "metadata": {}
        }
      ]
    },
    {
      "cell_type": "code",
      "source": [],
      "metadata": {
        "id": "16FRQNWaRhKt"
      },
      "execution_count": null,
      "outputs": []
    },
    {
      "cell_type": "code",
      "source": [
        "inpx = Input(shape=(n_features,n_features,1,))\n",
        "layer1 = Conv2D(6, kernel_size=(5, 5), strides=(1,1), activation='relu', padding='valid')(inpx)\n",
        "layer2 = AveragePooling2D(pool_size=(2, 2), strides=(2,2), padding='valid')(layer1)\n",
        "layer3 = Conv2D(16, kernel_size=(5, 5), strides=(1,1), activation='relu', padding='valid')(layer2)\n",
        "layer4 = AveragePooling2D(pool_size=(2, 2), strides=(2,2), padding='valid')(layer3)\n",
        "layer5 = Flatten()(layer4)\n",
        "layer6 = Dense(120, activation='relu')(layer5)\n",
        "layer7 = Dense(84, activation='sigmoid')(layer6)\n",
        "layer8 = Dense(10, activation='softmax')(layer7)\n",
        "opt1 = tf.keras.optimizers.Adam() #0\n",
        "opt2 = tf.keras.optimizers.SGD() #1\n",
        "loss = tf.keras.losses.SparseCategoricalCrossentropy()\n",
        "def compare_opt(opt):\n",
        "  model4 = Model(inpx, layer8)\n",
        "  model4.compile(optimizer=opt, loss=loss, metrics=['sparse_categorical_accuracy'])\n",
        "  start_tra = perf_counter()\n",
        "  history = model4.fit(X_train, y_train, validation_data=(X_test, y_test), verbose=False ,epochs=50, batch_size=128)\n",
        "  end_tra = perf_counter()\n",
        "  y_pred  = model4.predict(X_test)\n",
        "  predicted_categories = np.argmax(y_pred, axis = 1)\n",
        "  time = end_tra - start_tra\n",
        "  return f1_score(y_test,predicted_categories,average='macro') , time"
      ],
      "metadata": {
        "id": "H6D19UNNDJuo"
      },
      "execution_count": null,
      "outputs": []
    },
    {
      "cell_type": "code",
      "source": [
        "# optimizer\n",
        "scores = []\n",
        "times = []\n",
        "for i in tqdm([opt1,opt2]):\n",
        "  score , time = compare_opt(i)\n",
        "  scores.append(score)\n",
        "  times.append(time)\n",
        "\n",
        "opt_df = pd.DataFrame()\n",
        "opt_df['scores'] = scores\n",
        "opt_df['times'] = times\n",
        "opt_df['optimizer'] = [1,2]\n",
        "\n",
        "ax = opt_df[['scores','times']].plot(kind='bar',subplots=True,legend=False,figsize=(10,8))\n",
        "ax[0].set_ylim([0.990, 0.992]);\n",
        "ax[0].set_xlabel('Optimizer');\n",
        "ax[0].set_title('Model Accuracy on Test Data')\n",
        "ax[1].set_xlabel('Optimizer');\n",
        "ax[1].set_title('Training Time (minutes)');"
      ],
      "metadata": {
        "colab": {
          "base_uri": "https://localhost:8080/",
          "height": 620,
          "referenced_widgets": [
            "5f894efde7594b0d87b9fb5782d58842",
            "270d9a3252b1483ba354fa0fc0821a51",
            "6f037dcba3e344dba51106fe960b9995",
            "f6b604022a5a4c0a9695e0010154d51c",
            "a10b91b6ae2d4827885d7136f4b4b95a",
            "aafda2326ea8402c945356855385ab7f",
            "8b1bcd28bdac4bbbb13bce963d36160e",
            "8aaaa6a37d26430aa2c1f63a5feb4319",
            "32b450429125418b9e85b34e19d54f83",
            "1b70f3d96ce445aeb496b10789b89dbe",
            "85b8354ac3874515a37668fc4147cce7"
          ]
        },
        "id": "QR5x6RXCD1-4",
        "outputId": "0217950c-6f48-4f3a-b459-d6ab364b363d"
      },
      "execution_count": null,
      "outputs": [
        {
          "output_type": "display_data",
          "data": {
            "text/plain": [
              "  0%|          | 0/2 [00:00<?, ?it/s]"
            ],
            "application/vnd.jupyter.widget-view+json": {
              "version_major": 2,
              "version_minor": 0,
              "model_id": "5f894efde7594b0d87b9fb5782d58842"
            }
          },
          "metadata": {}
        },
        {
          "output_type": "stream",
          "name": "stdout",
          "text": [
            "625/625 [==============================] - 1s 2ms/step\n",
            "625/625 [==============================] - 1s 2ms/step\n"
          ]
        },
        {
          "output_type": "display_data",
          "data": {
            "text/plain": [
              "<Figure size 720x576 with 2 Axes>"
            ],
            "image/png": "[encoded data removed]"
          },
          "metadata": {}
        }
      ]
    },
    {
      "cell_type": "code",
      "source": [
        "inpx = Input(shape=(n_features,n_features,1,))\n",
        "layer1 = Conv2D(6, kernel_size=(5, 5), strides=(1,1), activation='relu', padding='valid')(inpx)\n",
        "layer2 = AveragePooling2D(pool_size=(2, 2), strides=(2,2), padding='valid')(layer1)\n",
        "layer3 = Conv2D(16, kernel_size=(5, 5), strides=(1,1), activation='relu', padding='valid')(layer2)\n",
        "layer4 = AveragePooling2D(pool_size=(2, 2), strides=(2,2), padding='valid')(layer3)\n",
        "layer5 = Flatten()(layer4)\n",
        "layer6 = Dense(120, activation='relu')(layer5)\n",
        "layer7 = Dense(84, activation='relu')(layer6)\n",
        "layer8 = Dense(10, activation='softmax')(layer7)\n",
        "\n",
        "model5 = Model(inpx, layer8)\n",
        "opt = tf.keras.optimizers.Adam()\n",
        "loss = tf.keras.losses.SparseCategoricalCrossentropy()\n",
        "model5.compile(optimizer=opt, loss=loss, metrics=['sparse_categorical_accuracy'])\n",
        "history = model5.fit(X_train, y_train, validation_data=(X_test, y_test) ,epochs=50, batch_size=128)"
      ],
      "metadata": {
        "id": "L9iiFN3uTesT",
        "colab": {
          "base_uri": "https://localhost:8080/"
        },
        "outputId": "67964163-dcd2-484f-be44-12a2a47b9d28"
      },
      "execution_count": null,
      "outputs": [
        {
          "output_type": "stream",
          "name": "stdout",
          "text": [
            "Epoch 1/50\n",
            "469/469 [==============================] - 3s 5ms/step - loss: 0.2340 - sparse_categorical_accuracy: 0.9346 - val_loss: 0.1304 - val_sparse_categorical_accuracy: 0.9607\n",
            "Epoch 2/50\n",
            "469/469 [==============================] - 2s 5ms/step - loss: 0.0543 - sparse_categorical_accuracy: 0.9841 - val_loss: 0.0748 - val_sparse_categorical_accuracy: 0.9760\n",
            "Epoch 3/50\n",
            "469/469 [==============================] - 2s 4ms/step - loss: 0.0355 - sparse_categorical_accuracy: 0.9886 - val_loss: 0.0552 - val_sparse_categorical_accuracy: 0.9823\n",
            "Epoch 4/50\n",
            "469/469 [==============================] - 2s 5ms/step - loss: 0.0274 - sparse_categorical_accuracy: 0.9914 - val_loss: 0.0581 - val_sparse_categorical_accuracy: 0.9824\n",
            "Epoch 5/50\n",
            "469/469 [==============================] - 2s 5ms/step - loss: 0.0219 - sparse_categorical_accuracy: 0.9929 - val_loss: 0.0489 - val_sparse_categorical_accuracy: 0.9850\n",
            "Epoch 6/50\n",
            "469/469 [==============================] - 2s 5ms/step - loss: 0.0183 - sparse_categorical_accuracy: 0.9942 - val_loss: 0.0418 - val_sparse_categorical_accuracy: 0.9872\n",
            "Epoch 7/50\n",
            "469/469 [==============================] - 3s 6ms/step - loss: 0.0169 - sparse_categorical_accuracy: 0.9948 - val_loss: 0.0454 - val_sparse_categorical_accuracy: 0.9847\n",
            "Epoch 8/50\n",
            "469/469 [==============================] - 2s 4ms/step - loss: 0.0140 - sparse_categorical_accuracy: 0.9957 - val_loss: 0.0367 - val_sparse_categorical_accuracy: 0.9884\n",
            "Epoch 9/50\n",
            "469/469 [==============================] - 2s 5ms/step - loss: 0.0122 - sparse_categorical_accuracy: 0.9960 - val_loss: 0.0440 - val_sparse_categorical_accuracy: 0.9863\n",
            "Epoch 10/50\n",
            "469/469 [==============================] - 2s 5ms/step - loss: 0.0106 - sparse_categorical_accuracy: 0.9962 - val_loss: 0.0381 - val_sparse_categorical_accuracy: 0.9899\n",
            "Epoch 11/50\n",
            "469/469 [==============================] - 2s 4ms/step - loss: 0.0104 - sparse_categorical_accuracy: 0.9964 - val_loss: 0.0359 - val_sparse_categorical_accuracy: 0.9897\n",
            "Epoch 12/50\n",
            "469/469 [==============================] - 2s 5ms/step - loss: 0.0082 - sparse_categorical_accuracy: 0.9971 - val_loss: 0.0343 - val_sparse_categorical_accuracy: 0.9898\n",
            "Epoch 13/50\n",
            "469/469 [==============================] - 2s 5ms/step - loss: 0.0077 - sparse_categorical_accuracy: 0.9974 - val_loss: 0.0354 - val_sparse_categorical_accuracy: 0.9901\n",
            "Epoch 14/50\n",
            "469/469 [==============================] - 2s 4ms/step - loss: 0.0067 - sparse_categorical_accuracy: 0.9977 - val_loss: 0.0350 - val_sparse_categorical_accuracy: 0.9905\n",
            "Epoch 15/50\n",
            "469/469 [==============================] - 2s 5ms/step - loss: 0.0078 - sparse_categorical_accuracy: 0.9973 - val_loss: 0.0417 - val_sparse_categorical_accuracy: 0.9883\n",
            "Epoch 16/50\n",
            "469/469 [==============================] - 2s 5ms/step - loss: 0.0044 - sparse_categorical_accuracy: 0.9985 - val_loss: 0.0359 - val_sparse_categorical_accuracy: 0.9908\n",
            "Epoch 17/50\n",
            "469/469 [==============================] - 2s 5ms/step - loss: 0.0048 - sparse_categorical_accuracy: 0.9983 - val_loss: 0.0370 - val_sparse_categorical_accuracy: 0.9905\n",
            "Epoch 18/50\n",
            "469/469 [==============================] - 2s 5ms/step - loss: 0.0055 - sparse_categorical_accuracy: 0.9981 - val_loss: 0.0461 - val_sparse_categorical_accuracy: 0.9876\n",
            "Epoch 19/50\n",
            "469/469 [==============================] - 2s 5ms/step - loss: 0.0038 - sparse_categorical_accuracy: 0.9990 - val_loss: 0.0395 - val_sparse_categorical_accuracy: 0.9904\n",
            "Epoch 20/50\n",
            "469/469 [==============================] - 2s 5ms/step - loss: 0.0046 - sparse_categorical_accuracy: 0.9985 - val_loss: 0.0411 - val_sparse_categorical_accuracy: 0.9895\n",
            "Epoch 21/50\n",
            "469/469 [==============================] - 2s 5ms/step - loss: 0.0040 - sparse_categorical_accuracy: 0.9987 - val_loss: 0.0365 - val_sparse_categorical_accuracy: 0.9914\n",
            "Epoch 22/50\n",
            "469/469 [==============================] - 2s 5ms/step - loss: 0.0036 - sparse_categorical_accuracy: 0.9987 - val_loss: 0.0370 - val_sparse_categorical_accuracy: 0.9909\n",
            "Epoch 23/50\n",
            "469/469 [==============================] - 2s 5ms/step - loss: 0.0023 - sparse_categorical_accuracy: 0.9993 - val_loss: 0.0412 - val_sparse_categorical_accuracy: 0.9906\n",
            "Epoch 24/50\n",
            "469/469 [==============================] - 2s 5ms/step - loss: 0.0033 - sparse_categorical_accuracy: 0.9988 - val_loss: 0.0472 - val_sparse_categorical_accuracy: 0.9894\n",
            "Epoch 25/50\n",
            "469/469 [==============================] - 2s 5ms/step - loss: 0.0043 - sparse_categorical_accuracy: 0.9986 - val_loss: 0.0534 - val_sparse_categorical_accuracy: 0.9886\n",
            "Epoch 26/50\n",
            "469/469 [==============================] - 2s 5ms/step - loss: 0.0031 - sparse_categorical_accuracy: 0.9989 - val_loss: 0.0407 - val_sparse_categorical_accuracy: 0.9918\n",
            "Epoch 27/50\n",
            "469/469 [==============================] - 2s 5ms/step - loss: 0.0026 - sparse_categorical_accuracy: 0.9990 - val_loss: 0.0485 - val_sparse_categorical_accuracy: 0.9890\n",
            "Epoch 28/50\n",
            "469/469 [==============================] - 2s 5ms/step - loss: 0.0027 - sparse_categorical_accuracy: 0.9992 - val_loss: 0.0655 - val_sparse_categorical_accuracy: 0.9861\n",
            "Epoch 29/50\n",
            "469/469 [==============================] - 2s 4ms/step - loss: 0.0018 - sparse_categorical_accuracy: 0.9994 - val_loss: 0.0348 - val_sparse_categorical_accuracy: 0.9920\n",
            "Epoch 30/50\n",
            "469/469 [==============================] - 2s 4ms/step - loss: 0.0011 - sparse_categorical_accuracy: 0.9996 - val_loss: 0.0418 - val_sparse_categorical_accuracy: 0.9914\n",
            "Epoch 31/50\n",
            "469/469 [==============================] - 2s 5ms/step - loss: 3.8134e-04 - sparse_categorical_accuracy: 0.9999 - val_loss: 0.0480 - val_sparse_categorical_accuracy: 0.9912\n",
            "Epoch 32/50\n",
            "469/469 [==============================] - 2s 5ms/step - loss: 0.0039 - sparse_categorical_accuracy: 0.9989 - val_loss: 0.0516 - val_sparse_categorical_accuracy: 0.9898\n",
            "Epoch 33/50\n",
            "469/469 [==============================] - 2s 5ms/step - loss: 0.0038 - sparse_categorical_accuracy: 0.9988 - val_loss: 0.0399 - val_sparse_categorical_accuracy: 0.9908\n",
            "Epoch 34/50\n",
            "469/469 [==============================] - 2s 5ms/step - loss: 0.0021 - sparse_categorical_accuracy: 0.9995 - val_loss: 0.0428 - val_sparse_categorical_accuracy: 0.9914\n",
            "Epoch 35/50\n",
            "469/469 [==============================] - 2s 4ms/step - loss: 9.0701e-04 - sparse_categorical_accuracy: 0.9997 - val_loss: 0.0418 - val_sparse_categorical_accuracy: 0.9920\n",
            "Epoch 36/50\n",
            "469/469 [==============================] - 3s 5ms/step - loss: 1.6919e-04 - sparse_categorical_accuracy: 1.0000 - val_loss: 0.0428 - val_sparse_categorical_accuracy: 0.9930\n",
            "Epoch 37/50\n",
            "469/469 [==============================] - 2s 5ms/step - loss: 3.7735e-04 - sparse_categorical_accuracy: 0.9999 - val_loss: 0.0418 - val_sparse_categorical_accuracy: 0.9927\n",
            "Epoch 38/50\n",
            "469/469 [==============================] - 2s 5ms/step - loss: 4.2045e-05 - sparse_categorical_accuracy: 1.0000 - val_loss: 0.0425 - val_sparse_categorical_accuracy: 0.9926\n",
            "Epoch 39/50\n",
            "469/469 [==============================] - 2s 5ms/step - loss: 0.0069 - sparse_categorical_accuracy: 0.9981 - val_loss: 0.0411 - val_sparse_categorical_accuracy: 0.9910\n",
            "Epoch 40/50\n",
            "469/469 [==============================] - 2s 5ms/step - loss: 0.0015 - sparse_categorical_accuracy: 0.9997 - val_loss: 0.0361 - val_sparse_categorical_accuracy: 0.9923\n",
            "Epoch 41/50\n",
            "469/469 [==============================] - 2s 5ms/step - loss: 6.7207e-04 - sparse_categorical_accuracy: 0.9998 - val_loss: 0.0445 - val_sparse_categorical_accuracy: 0.9916\n",
            "Epoch 42/50\n",
            "469/469 [==============================] - 2s 5ms/step - loss: 0.0011 - sparse_categorical_accuracy: 0.9996 - val_loss: 0.0482 - val_sparse_categorical_accuracy: 0.9905\n",
            "Epoch 43/50\n",
            "469/469 [==============================] - 2s 5ms/step - loss: 0.0020 - sparse_categorical_accuracy: 0.9994 - val_loss: 0.0454 - val_sparse_categorical_accuracy: 0.9905\n",
            "Epoch 44/50\n",
            "469/469 [==============================] - 2s 5ms/step - loss: 0.0015 - sparse_categorical_accuracy: 0.9995 - val_loss: 0.0410 - val_sparse_categorical_accuracy: 0.9919\n",
            "Epoch 45/50\n",
            "469/469 [==============================] - 2s 5ms/step - loss: 2.9190e-04 - sparse_categorical_accuracy: 0.9999 - val_loss: 0.0416 - val_sparse_categorical_accuracy: 0.9929\n",
            "Epoch 46/50\n",
            "469/469 [==============================] - 2s 5ms/step - loss: 2.7577e-05 - sparse_categorical_accuracy: 1.0000 - val_loss: 0.0419 - val_sparse_categorical_accuracy: 0.9929\n",
            "Epoch 47/50\n",
            "469/469 [==============================] - 2s 5ms/step - loss: 1.0370e-05 - sparse_categorical_accuracy: 1.0000 - val_loss: 0.0422 - val_sparse_categorical_accuracy: 0.9931\n",
            "Epoch 48/50\n",
            "469/469 [==============================] - 2s 5ms/step - loss: 6.6992e-06 - sparse_categorical_accuracy: 1.0000 - val_loss: 0.0427 - val_sparse_categorical_accuracy: 0.9932\n",
            "Epoch 49/50\n",
            "469/469 [==============================] - 2s 5ms/step - loss: 4.8494e-06 - sparse_categorical_accuracy: 1.0000 - val_loss: 0.0434 - val_sparse_categorical_accuracy: 0.9933\n",
            "Epoch 50/50\n",
            "469/469 [==============================] - 2s 5ms/step - loss: 3.7209e-06 - sparse_categorical_accuracy: 1.0000 - val_loss: 0.0437 - val_sparse_categorical_accuracy: 0.9934\n"
          ]
        }
      ]
    },
    {
      "cell_type": "code",
      "source": [
        "y_pred  = model5.predict(X_test)\n",
        "predicted_categories = np.argmax(y_pred, axis = 1)\n",
        "print(classification_report(y_test,predicted_categories,digits=4))"
      ],
      "metadata": {
        "id": "OS5jwWpoTsDP",
        "colab": {
          "base_uri": "https://localhost:8080/"
        },
        "outputId": "0e042d49-6069-4ef4-def5-526463f81cea"
      },
      "execution_count": null,
      "outputs": [
        {
          "output_type": "stream",
          "name": "stdout",
          "text": [
            "625/625 [==============================] - 1s 2ms/step\n",
            "              precision    recall  f1-score   support\n",
            "\n",
            "         0.0     0.9950    0.9970    0.9960      2000\n",
            "         1.0     0.9930    0.9995    0.9963      2000\n",
            "         2.0     0.9856    0.9900    0.9878      2000\n",
            "         3.0     0.9904    0.9825    0.9864      2000\n",
            "         4.0     0.9880    0.9915    0.9898      2000\n",
            "         5.0     0.9945    0.9945    0.9945      2000\n",
            "         6.0     0.9955    0.9915    0.9935      2000\n",
            "         7.0     0.9990    0.9970    0.9980      2000\n",
            "         8.0     0.9990    0.9980    0.9985      2000\n",
            "         9.0     0.9935    0.9920    0.9927      2000\n",
            "\n",
            "    accuracy                         0.9933     20000\n",
            "   macro avg     0.9934    0.9933    0.9933     20000\n",
            "weighted avg     0.9934    0.9933    0.9933     20000\n",
            "\n"
          ]
        }
      ]
    },
    {
      "cell_type": "markdown",
      "source": [
        "LeNet on Mnist"
      ],
      "metadata": {
        "id": "OERmWtK6VImi"
      }
    },
    {
      "cell_type": "code",
      "source": [
        "! gdown 1I8j_kfwk987-Rnhu05geMYXBtQPw1Uob\n",
        "! gdown 1-hoSUApfWdS3R-iA2e2T1OdRfSvnSLjR"
      ],
      "metadata": {
        "id": "dqFd8YO3nbs8"
      },
      "execution_count": null,
      "outputs": []
    },
    {
      "cell_type": "code",
      "source": [
        "import pandas as pd\n",
        "from sklearn.model_selection import train_test_split\n",
        "X = pd.read_csv('Kaggle digits train.csv')\n",
        "y = X.pop('label')\n",
        "X = X.to_numpy()\n",
        "y = y.to_numpy()\n",
        "X_train,X_val,y_train,y_val = train_test_split(X,y)\n",
        "\n",
        "X_test = pd.read_csv('Kaggle digits test.csv')\n",
        "X_test = X_test.to_numpy()"
      ],
      "metadata": {
        "id": "Rhg7JTSTnshm"
      },
      "execution_count": null,
      "outputs": []
    },
    {
      "cell_type": "code",
      "source": [
        "X_train = np.array([X_train[i].reshape(28,28) for i in range(len(X_train))])\n",
        "X_val = np.array([X_val[i].reshape(28,28) for i in range(len(X_val))])\n",
        "X_test = np.array([X_test[i].reshape(28,28) for i in range(len(X_test))])"
      ],
      "metadata": {
        "id": "55jkegFfU-JX"
      },
      "execution_count": null,
      "outputs": []
    },
    {
      "cell_type": "code",
      "source": [
        "n_features = X_train.shape[1]"
      ],
      "metadata": {
        "id": "U8LlBD2WbNCL"
      },
      "execution_count": null,
      "outputs": []
    },
    {
      "cell_type": "code",
      "source": [
        "inpx = Input(shape=(n_features,n_features,1,))\n",
        "layer1 = Conv2D(6, kernel_size=(5, 5), strides=(1,1), activation='tanh', padding='valid')(inpx)\n",
        "layer2 = AveragePooling2D(pool_size=(2, 2), strides=(2,2), padding='valid')(layer1)\n",
        "layer3 = Conv2D(16, kernel_size=(5, 5), strides=(1,1), activation='tanh', padding='valid')(layer2)\n",
        "layer4 = AveragePooling2D(pool_size=(2, 2), strides=(2,2), padding='valid')(layer3)\n",
        "layer5 = Flatten()(layer4)\n",
        "layer6 = Dense(120, activation='tanh')(layer5)\n",
        "layer7 = Dense(84, activation='tanh')(layer6)\n",
        "layer8 = Dense(10, activation='softmax')(layer7)\n",
        "\n",
        "model = Model(inpx, layer8)\n",
        "opt = tf.keras.optimizers.SGD()\n",
        "loss = tf.keras.losses.SparseCategoricalCrossentropy()\n",
        "model.compile(optimizer=opt, loss=loss, metrics=['sparse_categorical_accuracy'])\n",
        "model.fit(X_train, y_train, validation_data=(X_val, y_val) ,epochs=20, batch_size=16)"
      ],
      "metadata": {
        "id": "WgKnz2izak0F"
      },
      "execution_count": null,
      "outputs": []
    },
    {
      "cell_type": "code",
      "source": [
        "y_pred  = model.predict(X_test)\n",
        "predicted_categories = np.argmax(y_pred, axis = 1)\n",
        "predictions = pd.Series(predicted_categories, name='Label')\n",
        "image_id = pd.Series(range(1,28001), name = 'ImageId')\n",
        "predictions = pd.concat([image_id, predictions], axis = 1)\n",
        "predictions.to_csv('submission.csv', index=False)"
      ],
      "metadata": {
        "id": "gwHxCAas2lri"
      },
      "execution_count": null,
      "outputs": []
    }
  ]
}